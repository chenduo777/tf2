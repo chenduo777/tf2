{
 "cells": [
  {
   "cell_type": "code",
   "execution_count": 19,
   "metadata": {},
   "outputs": [],
   "source": [
    "import sys\n",
    "sys.path.append('..')"
   ]
  },
  {
   "cell_type": "code",
   "execution_count": 20,
   "metadata": {},
   "outputs": [],
   "source": [
    "import numpy as np\n",
    "import os\n",
    "import tensorflow as tf\n",
    "import pandas as pd\n",
    "import tensorflow_datasets as tfds\n",
    "import matplotlib.pyplot as plt\n",
    "from tensorflow import keras\n",
    "from tensorflow.keras import layers\n",
    "from tensorflow.keras import initializers\n",
    "from preprocessing import parse_aug_fn, parse_fn"
   ]
  },
  {
   "cell_type": "code",
   "execution_count": 23,
   "metadata": {},
   "outputs": [
    {
     "name": "stdout",
     "output_type": "stream",
     "text": [
      "<PrefetchDataset shapes: {id: (), image: (32, 32, 3), label: ()}, types: {id: tf.string, image: tf.uint8, label: tf.int64}>\n"
     ]
    }
   ],
   "source": [
    "train_split, valid_split = ['train[:90%]', 'train[90%:]']\n",
    "train_data, info = tfds.load('cifar10', split=train_split, with_info=True)\n",
    "vaild_data = tfds.load('cifar10', split=valid_split)\n",
    "test_data = tfds.load('cifar10', split='test')\n",
    "\n",
    "print(train_data)\n"
   ]
  },
  {
   "cell_type": "code",
   "execution_count": 24,
   "metadata": {},
   "outputs": [],
   "source": [
    "AUTOTUNE = tf.data.experimental.AUTOTUNE\n",
    "batch_size = 64\n",
    "train_num = int(info.splits['train'].num_examples / 10 )* 9\n",
    "\n",
    "train_data = train_data.shuffle(train_num)\n",
    "train_data = train_data.map(map_func=parse_aug_fn, num_parallel_calls=AUTOTUNE)\n",
    "train_data = train_data.batch(batch_size).prefetch(buffer_size=AUTOTUNE)\n",
    "\n",
    "vaild_data = vaild_data.map(map_func=parse_fn, num_parallel_calls=AUTOTUNE)\n",
    "vaild_data = vaild_data.batch(batch_size).prefetch(buffer_size=AUTOTUNE)\n",
    "\n",
    "test_data = test_data.map(map_func=parse_fn, num_parallel_calls=AUTOTUNE)\n",
    "test_data = test_data.batch(batch_size).prefetch(buffer_size=AUTOTUNE)\n",
    "\n"
   ]
  },
  {
   "cell_type": "code",
   "execution_count": 25,
   "metadata": {},
   "outputs": [],
   "source": [
    "def bulid_and_train_model(run_name,init):\n",
    "    inputs = keras.Input(shape=(32, 32, 3))\n",
    "    x = layers.Conv2D(64, (3, 3), kernel_initializer=init, activation='relu')(inputs)\n",
    "    x = layers.MaxPool2D()(x)\n",
    "    x = layers.Conv2D(128, (3, 3), kernel_initializer=init, activation='relu')(x)\n",
    "    x = layers.Conv2D(256, (3, 3), kernel_initializer=init, activation='relu')(x)\n",
    "    x = layers.Conv2D(128, (3, 3), kernel_initializer=init, activation='relu')(x)\n",
    "    x = layers.Conv2D(64, (3, 3), kernel_initializer=init, activation='relu')(x)\n",
    "    x = layers.Flatten()(x)\n",
    "    x = layers.Dense(64, kernel_initializer=init, activation='relu')(x)\n",
    "    x = layers.Dropout(0.5)(x)\n",
    "    outputs = layers.Dense(10, kernel_initializer=init, activation='softmax')(x)\n",
    "    model = keras.Model(inputs, outputs)\n",
    "    logfiles = 'lab5-logs/{}-{}'.format(run_name, init.__class__.__name__)\n",
    "    model_mbk = keras.callbacks.TensorBoard(logfiles, histogram_freq=1)\n",
    "    model_file = logfiles + '/model'.format(run_name)\n",
    "    model_mckp = keras.callbacks.ModelCheckpoint(model_file, save_best_only=True,model='max',monitor='val_categorical_accuracy')\n",
    "\n",
    "    model.compile(keras.optimizers.Adam(), loss=keras.losses.CategoricalCrossentropy(), metrics=[keras.metrics.CategoricalAccuracy()])\n",
    "\n",
    "    model.fit(train_data, epochs=50, validation_data=vaild_data, callbacks=[model_mbk, model_mckp])"
   ]
  },
  {
   "cell_type": "code",
   "execution_count": 26,
   "metadata": {},
   "outputs": [
    {
     "name": "stdout",
     "output_type": "stream",
     "text": [
      "---runing session 1 with init RandomNormal---\n",
      "Epoch 1/50\n",
      "  1/704 [..............................] - ETA: 0s - loss: 2.4027 - categorical_accuracy: 0.1094WARNING:tensorflow:From c:\\Users\\Admin\\miniconda3\\envs\\tf2\\lib\\site-packages\\tensorflow\\python\\ops\\summary_ops_v2.py:1277: stop (from tensorflow.python.eager.profiler) is deprecated and will be removed after 2020-07-01.\n",
      "Instructions for updating:\n",
      "use `tf.profiler.experimental.stop` instead.\n"
     ]
    },
    {
     "name": "stderr",
     "output_type": "stream",
     "text": [
      "WARNING:tensorflow:From c:\\Users\\Admin\\miniconda3\\envs\\tf2\\lib\\site-packages\\tensorflow\\python\\ops\\summary_ops_v2.py:1277: stop (from tensorflow.python.eager.profiler) is deprecated and will be removed after 2020-07-01.\n",
      "Instructions for updating:\n",
      "use `tf.profiler.experimental.stop` instead.\n"
     ]
    },
    {
     "name": "stdout",
     "output_type": "stream",
     "text": [
      "703/704 [============================>.] - ETA: 0s - loss: 1.9891 - categorical_accuracy: 0.2502WARNING:tensorflow:From c:\\Users\\Admin\\miniconda3\\envs\\tf2\\lib\\site-packages\\tensorflow\\python\\training\\tracking\\tracking.py:111: Model.state_updates (from tensorflow.python.keras.engine.training) is deprecated and will be removed in a future version.\n",
      "Instructions for updating:\n",
      "This property should not be used in TensorFlow 2.0, as updates are applied automatically.\n"
     ]
    },
    {
     "name": "stderr",
     "output_type": "stream",
     "text": [
      "WARNING:tensorflow:From c:\\Users\\Admin\\miniconda3\\envs\\tf2\\lib\\site-packages\\tensorflow\\python\\training\\tracking\\tracking.py:111: Model.state_updates (from tensorflow.python.keras.engine.training) is deprecated and will be removed in a future version.\n",
      "Instructions for updating:\n",
      "This property should not be used in TensorFlow 2.0, as updates are applied automatically.\n"
     ]
    },
    {
     "name": "stdout",
     "output_type": "stream",
     "text": [
      "WARNING:tensorflow:From c:\\Users\\Admin\\miniconda3\\envs\\tf2\\lib\\site-packages\\tensorflow\\python\\training\\tracking\\tracking.py:111: Layer.updates (from tensorflow.python.keras.engine.base_layer) is deprecated and will be removed in a future version.\n",
      "Instructions for updating:\n",
      "This property should not be used in TensorFlow 2.0, as updates are applied automatically.\n"
     ]
    },
    {
     "name": "stderr",
     "output_type": "stream",
     "text": [
      "WARNING:tensorflow:From c:\\Users\\Admin\\miniconda3\\envs\\tf2\\lib\\site-packages\\tensorflow\\python\\training\\tracking\\tracking.py:111: Layer.updates (from tensorflow.python.keras.engine.base_layer) is deprecated and will be removed in a future version.\n",
      "Instructions for updating:\n",
      "This property should not be used in TensorFlow 2.0, as updates are applied automatically.\n"
     ]
    },
    {
     "name": "stdout",
     "output_type": "stream",
     "text": [
      "INFO:tensorflow:Assets written to: lab5-logs/run-1-RandomNormal\\model\\assets\n"
     ]
    },
    {
     "name": "stderr",
     "output_type": "stream",
     "text": [
      "INFO:tensorflow:Assets written to: lab5-logs/run-1-RandomNormal\\model\\assets\n"
     ]
    },
    {
     "name": "stdout",
     "output_type": "stream",
     "text": [
      "704/704 [==============================] - 55s 78ms/step - loss: 1.9890 - categorical_accuracy: 0.2502 - val_loss: 1.6484 - val_categorical_accuracy: 0.3862\n",
      "Epoch 2/50\n",
      "703/704 [============================>.] - ETA: 0s - loss: 1.7189 - categorical_accuracy: 0.3663INFO:tensorflow:Assets written to: lab5-logs/run-1-RandomNormal\\model\\assets\n"
     ]
    },
    {
     "name": "stderr",
     "output_type": "stream",
     "text": [
      "INFO:tensorflow:Assets written to: lab5-logs/run-1-RandomNormal\\model\\assets\n"
     ]
    },
    {
     "name": "stdout",
     "output_type": "stream",
     "text": [
      "704/704 [==============================] - 59s 84ms/step - loss: 1.7188 - categorical_accuracy: 0.3664 - val_loss: 1.4340 - val_categorical_accuracy: 0.4846\n",
      "Epoch 3/50\n",
      "703/704 [============================>.] - ETA: 0s - loss: 1.5606 - categorical_accuracy: 0.4327INFO:tensorflow:Assets written to: lab5-logs/run-1-RandomNormal\\model\\assets\n"
     ]
    },
    {
     "name": "stderr",
     "output_type": "stream",
     "text": [
      "INFO:tensorflow:Assets written to: lab5-logs/run-1-RandomNormal\\model\\assets\n"
     ]
    },
    {
     "name": "stdout",
     "output_type": "stream",
     "text": [
      "704/704 [==============================] - 59s 83ms/step - loss: 1.5605 - categorical_accuracy: 0.4327 - val_loss: 1.3150 - val_categorical_accuracy: 0.5146\n",
      "Epoch 4/50\n",
      "703/704 [============================>.] - ETA: 0s - loss: 1.4562 - categorical_accuracy: 0.4830INFO:tensorflow:Assets written to: lab5-logs/run-1-RandomNormal\\model\\assets\n"
     ]
    },
    {
     "name": "stderr",
     "output_type": "stream",
     "text": [
      "INFO:tensorflow:Assets written to: lab5-logs/run-1-RandomNormal\\model\\assets\n"
     ]
    },
    {
     "name": "stdout",
     "output_type": "stream",
     "text": [
      "704/704 [==============================] - 60s 86ms/step - loss: 1.4562 - categorical_accuracy: 0.4829 - val_loss: 1.1479 - val_categorical_accuracy: 0.5942\n",
      "Epoch 5/50\n",
      "703/704 [============================>.] - ETA: 0s - loss: 1.3663 - categorical_accuracy: 0.5183INFO:tensorflow:Assets written to: lab5-logs/run-1-RandomNormal\\model\\assets\n"
     ]
    },
    {
     "name": "stderr",
     "output_type": "stream",
     "text": [
      "INFO:tensorflow:Assets written to: lab5-logs/run-1-RandomNormal\\model\\assets\n"
     ]
    },
    {
     "name": "stdout",
     "output_type": "stream",
     "text": [
      "704/704 [==============================] - 58s 82ms/step - loss: 1.3663 - categorical_accuracy: 0.5184 - val_loss: 1.0663 - val_categorical_accuracy: 0.6216\n",
      "Epoch 6/50\n",
      "703/704 [============================>.] - ETA: 0s - loss: 1.2945 - categorical_accuracy: 0.5504INFO:tensorflow:Assets written to: lab5-logs/run-1-RandomNormal\\model\\assets\n"
     ]
    },
    {
     "name": "stderr",
     "output_type": "stream",
     "text": [
      "INFO:tensorflow:Assets written to: lab5-logs/run-1-RandomNormal\\model\\assets\n"
     ]
    },
    {
     "name": "stdout",
     "output_type": "stream",
     "text": [
      "704/704 [==============================] - 57s 81ms/step - loss: 1.2946 - categorical_accuracy: 0.5504 - val_loss: 0.9947 - val_categorical_accuracy: 0.6412\n",
      "Epoch 7/50\n",
      "703/704 [============================>.] - ETA: 0s - loss: 1.2423 - categorical_accuracy: 0.5646INFO:tensorflow:Assets written to: lab5-logs/run-1-RandomNormal\\model\\assets\n"
     ]
    },
    {
     "name": "stderr",
     "output_type": "stream",
     "text": [
      "INFO:tensorflow:Assets written to: lab5-logs/run-1-RandomNormal\\model\\assets\n"
     ]
    },
    {
     "name": "stdout",
     "output_type": "stream",
     "text": [
      "704/704 [==============================] - 59s 83ms/step - loss: 1.2423 - categorical_accuracy: 0.5646 - val_loss: 0.9359 - val_categorical_accuracy: 0.6662\n",
      "Epoch 8/50\n",
      "703/704 [============================>.] - ETA: 0s - loss: 1.1901 - categorical_accuracy: 0.5874INFO:tensorflow:Assets written to: lab5-logs/run-1-RandomNormal\\model\\assets\n"
     ]
    },
    {
     "name": "stderr",
     "output_type": "stream",
     "text": [
      "INFO:tensorflow:Assets written to: lab5-logs/run-1-RandomNormal\\model\\assets\n"
     ]
    },
    {
     "name": "stdout",
     "output_type": "stream",
     "text": [
      "704/704 [==============================] - 58s 82ms/step - loss: 1.1901 - categorical_accuracy: 0.5874 - val_loss: 0.9303 - val_categorical_accuracy: 0.6672\n",
      "Epoch 9/50\n",
      "703/704 [============================>.] - ETA: 0s - loss: 1.1520 - categorical_accuracy: 0.6006INFO:tensorflow:Assets written to: lab5-logs/run-1-RandomNormal\\model\\assets\n"
     ]
    },
    {
     "name": "stderr",
     "output_type": "stream",
     "text": [
      "INFO:tensorflow:Assets written to: lab5-logs/run-1-RandomNormal\\model\\assets\n"
     ]
    },
    {
     "name": "stdout",
     "output_type": "stream",
     "text": [
      "704/704 [==============================] - 58s 82ms/step - loss: 1.1520 - categorical_accuracy: 0.6006 - val_loss: 0.8730 - val_categorical_accuracy: 0.6940\n",
      "Epoch 10/50\n",
      "703/704 [============================>.] - ETA: 0s - loss: 1.1126 - categorical_accuracy: 0.6146INFO:tensorflow:Assets written to: lab5-logs/run-1-RandomNormal\\model\\assets\n"
     ]
    },
    {
     "name": "stderr",
     "output_type": "stream",
     "text": [
      "INFO:tensorflow:Assets written to: lab5-logs/run-1-RandomNormal\\model\\assets\n"
     ]
    },
    {
     "name": "stdout",
     "output_type": "stream",
     "text": [
      "704/704 [==============================] - 57s 82ms/step - loss: 1.1126 - categorical_accuracy: 0.6146 - val_loss: 0.8518 - val_categorical_accuracy: 0.7012\n",
      "Epoch 11/50\n",
      "703/704 [============================>.] - ETA: 0s - loss: 1.0834 - categorical_accuracy: 0.6282INFO:tensorflow:Assets written to: lab5-logs/run-1-RandomNormal\\model\\assets\n"
     ]
    },
    {
     "name": "stderr",
     "output_type": "stream",
     "text": [
      "INFO:tensorflow:Assets written to: lab5-logs/run-1-RandomNormal\\model\\assets\n"
     ]
    },
    {
     "name": "stdout",
     "output_type": "stream",
     "text": [
      "704/704 [==============================] - 60s 85ms/step - loss: 1.0833 - categorical_accuracy: 0.6283 - val_loss: 0.8108 - val_categorical_accuracy: 0.7196\n",
      "Epoch 12/50\n",
      "704/704 [==============================] - 60s 85ms/step - loss: 1.0467 - categorical_accuracy: 0.6392 - val_loss: 0.8458 - val_categorical_accuracy: 0.7016\n",
      "Epoch 13/50\n",
      "704/704 [==============================] - 59s 84ms/step - loss: 1.0268 - categorical_accuracy: 0.6499 - val_loss: 0.8252 - val_categorical_accuracy: 0.7156\n",
      "Epoch 14/50\n",
      "704/704 [==============================] - 60s 85ms/step - loss: 1.0080 - categorical_accuracy: 0.6548 - val_loss: 0.8228 - val_categorical_accuracy: 0.7196\n",
      "Epoch 15/50\n",
      "703/704 [============================>.] - ETA: 0s - loss: 0.9851 - categorical_accuracy: 0.6634INFO:tensorflow:Assets written to: lab5-logs/run-1-RandomNormal\\model\\assets\n"
     ]
    },
    {
     "name": "stderr",
     "output_type": "stream",
     "text": [
      "INFO:tensorflow:Assets written to: lab5-logs/run-1-RandomNormal\\model\\assets\n"
     ]
    },
    {
     "name": "stdout",
     "output_type": "stream",
     "text": [
      "704/704 [==============================] - 60s 85ms/step - loss: 0.9852 - categorical_accuracy: 0.6634 - val_loss: 0.7791 - val_categorical_accuracy: 0.7254\n",
      "Epoch 16/50\n",
      "703/704 [============================>.] - ETA: 0s - loss: 0.9592 - categorical_accuracy: 0.6736INFO:tensorflow:Assets written to: lab5-logs/run-1-RandomNormal\\model\\assets\n"
     ]
    },
    {
     "name": "stderr",
     "output_type": "stream",
     "text": [
      "INFO:tensorflow:Assets written to: lab5-logs/run-1-RandomNormal\\model\\assets\n"
     ]
    },
    {
     "name": "stdout",
     "output_type": "stream",
     "text": [
      "704/704 [==============================] - 61s 87ms/step - loss: 0.9591 - categorical_accuracy: 0.6736 - val_loss: 0.7600 - val_categorical_accuracy: 0.7322\n",
      "Epoch 17/50\n",
      "704/704 [==============================] - 59s 84ms/step - loss: 0.9459 - categorical_accuracy: 0.6780 - val_loss: 0.7565 - val_categorical_accuracy: 0.7316\n",
      "Epoch 18/50\n",
      "703/704 [============================>.] - ETA: 0s - loss: 0.9289 - categorical_accuracy: 0.6858INFO:tensorflow:Assets written to: lab5-logs/run-1-RandomNormal\\model\\assets\n"
     ]
    },
    {
     "name": "stderr",
     "output_type": "stream",
     "text": [
      "INFO:tensorflow:Assets written to: lab5-logs/run-1-RandomNormal\\model\\assets\n"
     ]
    },
    {
     "name": "stdout",
     "output_type": "stream",
     "text": [
      "704/704 [==============================] - 59s 84ms/step - loss: 0.9289 - categorical_accuracy: 0.6858 - val_loss: 0.7507 - val_categorical_accuracy: 0.7414\n",
      "Epoch 19/50\n",
      "703/704 [============================>.] - ETA: 0s - loss: 0.9104 - categorical_accuracy: 0.6924INFO:tensorflow:Assets written to: lab5-logs/run-1-RandomNormal\\model\\assets\n"
     ]
    },
    {
     "name": "stderr",
     "output_type": "stream",
     "text": [
      "INFO:tensorflow:Assets written to: lab5-logs/run-1-RandomNormal\\model\\assets\n"
     ]
    },
    {
     "name": "stdout",
     "output_type": "stream",
     "text": [
      "704/704 [==============================] - 60s 85ms/step - loss: 0.9104 - categorical_accuracy: 0.6924 - val_loss: 0.7498 - val_categorical_accuracy: 0.7428\n",
      "Epoch 20/50\n",
      "703/704 [============================>.] - ETA: 0s - loss: 0.9016 - categorical_accuracy: 0.6973INFO:tensorflow:Assets written to: lab5-logs/run-1-RandomNormal\\model\\assets\n"
     ]
    },
    {
     "name": "stderr",
     "output_type": "stream",
     "text": [
      "INFO:tensorflow:Assets written to: lab5-logs/run-1-RandomNormal\\model\\assets\n"
     ]
    },
    {
     "name": "stdout",
     "output_type": "stream",
     "text": [
      "704/704 [==============================] - 66s 94ms/step - loss: 0.9016 - categorical_accuracy: 0.6973 - val_loss: 0.7186 - val_categorical_accuracy: 0.7538\n",
      "Epoch 21/50\n",
      "703/704 [============================>.] - ETA: 0s - loss: 0.8820 - categorical_accuracy: 0.7025INFO:tensorflow:Assets written to: lab5-logs/run-1-RandomNormal\\model\\assets\n"
     ]
    },
    {
     "name": "stderr",
     "output_type": "stream",
     "text": [
      "INFO:tensorflow:Assets written to: lab5-logs/run-1-RandomNormal\\model\\assets\n"
     ]
    },
    {
     "name": "stdout",
     "output_type": "stream",
     "text": [
      "704/704 [==============================] - 60s 86ms/step - loss: 0.8819 - categorical_accuracy: 0.7025 - val_loss: 0.7086 - val_categorical_accuracy: 0.7590\n",
      "Epoch 22/50\n",
      "704/704 [==============================] - 59s 84ms/step - loss: 0.8773 - categorical_accuracy: 0.7020 - val_loss: 0.7383 - val_categorical_accuracy: 0.7464\n",
      "Epoch 23/50\n",
      "703/704 [============================>.] - ETA: 0s - loss: 0.8586 - categorical_accuracy: 0.7097INFO:tensorflow:Assets written to: lab5-logs/run-1-RandomNormal\\model\\assets\n"
     ]
    },
    {
     "name": "stderr",
     "output_type": "stream",
     "text": [
      "INFO:tensorflow:Assets written to: lab5-logs/run-1-RandomNormal\\model\\assets\n"
     ]
    },
    {
     "name": "stdout",
     "output_type": "stream",
     "text": [
      "704/704 [==============================] - 59s 84ms/step - loss: 0.8585 - categorical_accuracy: 0.7098 - val_loss: 0.6985 - val_categorical_accuracy: 0.7592\n",
      "Epoch 24/50\n",
      "703/704 [============================>.] - ETA: 0s - loss: 0.8491 - categorical_accuracy: 0.7143INFO:tensorflow:Assets written to: lab5-logs/run-1-RandomNormal\\model\\assets\n"
     ]
    },
    {
     "name": "stderr",
     "output_type": "stream",
     "text": [
      "INFO:tensorflow:Assets written to: lab5-logs/run-1-RandomNormal\\model\\assets\n"
     ]
    },
    {
     "name": "stdout",
     "output_type": "stream",
     "text": [
      "704/704 [==============================] - 58s 83ms/step - loss: 0.8490 - categorical_accuracy: 0.7143 - val_loss: 0.6972 - val_categorical_accuracy: 0.7674\n",
      "Epoch 25/50\n",
      "704/704 [==============================] - 57s 81ms/step - loss: 0.8366 - categorical_accuracy: 0.7178 - val_loss: 0.7061 - val_categorical_accuracy: 0.7672\n",
      "Epoch 26/50\n",
      "703/704 [============================>.] - ETA: 0s - loss: 0.8346 - categorical_accuracy: 0.7221INFO:tensorflow:Assets written to: lab5-logs/run-1-RandomNormal\\model\\assets\n"
     ]
    },
    {
     "name": "stderr",
     "output_type": "stream",
     "text": [
      "INFO:tensorflow:Assets written to: lab5-logs/run-1-RandomNormal\\model\\assets\n"
     ]
    },
    {
     "name": "stdout",
     "output_type": "stream",
     "text": [
      "704/704 [==============================] - 58s 82ms/step - loss: 0.8346 - categorical_accuracy: 0.7221 - val_loss: 0.6631 - val_categorical_accuracy: 0.7788\n",
      "Epoch 27/50\n",
      "704/704 [==============================] - 57s 81ms/step - loss: 0.8105 - categorical_accuracy: 0.7286 - val_loss: 0.7636 - val_categorical_accuracy: 0.7534\n",
      "Epoch 28/50\n",
      "704/704 [==============================] - 61s 87ms/step - loss: 0.8165 - categorical_accuracy: 0.7281 - val_loss: 0.6945 - val_categorical_accuracy: 0.7606\n",
      "Epoch 29/50\n",
      "704/704 [==============================] - 59s 83ms/step - loss: 0.8068 - categorical_accuracy: 0.7305 - val_loss: 0.7117 - val_categorical_accuracy: 0.7724\n",
      "Epoch 30/50\n",
      "704/704 [==============================] - 58s 82ms/step - loss: 0.7917 - categorical_accuracy: 0.7341 - val_loss: 0.6709 - val_categorical_accuracy: 0.7730\n",
      "Epoch 31/50\n",
      "704/704 [==============================] - 58s 82ms/step - loss: 0.7885 - categorical_accuracy: 0.7366 - val_loss: 0.6787 - val_categorical_accuracy: 0.7752\n",
      "Epoch 32/50\n",
      "704/704 [==============================] - 58s 82ms/step - loss: 0.7839 - categorical_accuracy: 0.7384 - val_loss: 0.6754 - val_categorical_accuracy: 0.7730\n",
      "Epoch 33/50\n",
      "703/704 [============================>.] - ETA: 0s - loss: 0.7594 - categorical_accuracy: 0.7465INFO:tensorflow:Assets written to: lab5-logs/run-1-RandomNormal\\model\\assets\n"
     ]
    },
    {
     "name": "stderr",
     "output_type": "stream",
     "text": [
      "INFO:tensorflow:Assets written to: lab5-logs/run-1-RandomNormal\\model\\assets\n"
     ]
    },
    {
     "name": "stdout",
     "output_type": "stream",
     "text": [
      "704/704 [==============================] - 59s 84ms/step - loss: 0.7594 - categorical_accuracy: 0.7465 - val_loss: 0.6605 - val_categorical_accuracy: 0.7820\n",
      "Epoch 34/50\n",
      "704/704 [==============================] - 59s 83ms/step - loss: 0.7636 - categorical_accuracy: 0.7464 - val_loss: 0.6498 - val_categorical_accuracy: 0.7818\n",
      "Epoch 35/50\n",
      "704/704 [==============================] - 59s 83ms/step - loss: 0.7476 - categorical_accuracy: 0.7496 - val_loss: 0.6625 - val_categorical_accuracy: 0.7780\n",
      "Epoch 36/50\n",
      "703/704 [============================>.] - ETA: 0s - loss: 0.7540 - categorical_accuracy: 0.7498INFO:tensorflow:Assets written to: lab5-logs/run-1-RandomNormal\\model\\assets\n"
     ]
    },
    {
     "name": "stderr",
     "output_type": "stream",
     "text": [
      "INFO:tensorflow:Assets written to: lab5-logs/run-1-RandomNormal\\model\\assets\n"
     ]
    },
    {
     "name": "stdout",
     "output_type": "stream",
     "text": [
      "704/704 [==============================] - 59s 84ms/step - loss: 0.7540 - categorical_accuracy: 0.7499 - val_loss: 0.6568 - val_categorical_accuracy: 0.7900\n",
      "Epoch 37/50\n",
      "704/704 [==============================] - 59s 83ms/step - loss: 0.7403 - categorical_accuracy: 0.7535 - val_loss: 0.6743 - val_categorical_accuracy: 0.7790\n",
      "Epoch 38/50\n",
      "704/704 [==============================] - 59s 83ms/step - loss: 0.7336 - categorical_accuracy: 0.7578 - val_loss: 0.6539 - val_categorical_accuracy: 0.7812\n",
      "Epoch 39/50\n",
      "704/704 [==============================] - 59s 84ms/step - loss: 0.7273 - categorical_accuracy: 0.7600 - val_loss: 0.6661 - val_categorical_accuracy: 0.7764\n",
      "Epoch 40/50\n",
      "704/704 [==============================] - 61s 87ms/step - loss: 0.7226 - categorical_accuracy: 0.7623 - val_loss: 0.6655 - val_categorical_accuracy: 0.7854\n",
      "Epoch 41/50\n",
      "704/704 [==============================] - 61s 87ms/step - loss: 0.7169 - categorical_accuracy: 0.7627 - val_loss: 0.6495 - val_categorical_accuracy: 0.7860\n",
      "Epoch 42/50\n",
      "458/704 [==================>...........] - ETA: 21s - loss: 0.7055 - categorical_accuracy: 0.7695"
     ]
    }
   ],
   "source": [
    "session_num = 1\n",
    "model_dir = 'lab5-logs/models/'\n",
    "weights_initializers_list = [initializers.RandomNormal(), initializers.GlorotNormal(), initializers.HeNormal()]\n",
    "for init in weights_initializers_list:\n",
    "    print('---runing session %d with init %s---' % (session_num, init.__class__.__name__))\n",
    "    run_name = 'run-%d' % session_num\n",
    "    bulid_and_train_model(run_name, init)\n",
    "    session_num += 1\n"
   ]
  },
  {
   "cell_type": "code",
   "execution_count": null,
   "metadata": {},
   "outputs": [],
   "source": []
  }
 ],
 "metadata": {
  "kernelspec": {
   "display_name": "tf2",
   "language": "python",
   "name": "python3"
  },
  "language_info": {
   "codemirror_mode": {
    "name": "ipython",
    "version": 3
   },
   "file_extension": ".py",
   "mimetype": "text/x-python",
   "name": "python",
   "nbconvert_exporter": "python",
   "pygments_lexer": "ipython3",
   "version": "3.7.16"
  }
 },
 "nbformat": 4,
 "nbformat_minor": 2
}
