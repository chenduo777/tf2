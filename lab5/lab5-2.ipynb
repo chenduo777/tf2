{
 "cells": [
  {
   "cell_type": "code",
   "execution_count": 1,
   "metadata": {},
   "outputs": [],
   "source": [
    "import sys\n",
    "sys.path.append('..')"
   ]
  },
  {
   "cell_type": "code",
   "execution_count": 2,
   "metadata": {},
   "outputs": [],
   "source": [
    "import numpy as np\n",
    "import os\n",
    "import tensorflow as tf\n",
    "import pandas as pd\n",
    "import tensorflow_datasets as tfds\n",
    "import matplotlib.pyplot as plt\n",
    "from tensorflow import keras\n",
    "from tensorflow.keras import layers\n",
    "from tensorflow.keras import initializers\n",
    "from preprocessing import parse_aug_fn, parse_fn"
   ]
  },
  {
   "cell_type": "code",
   "execution_count": 3,
   "metadata": {},
   "outputs": [
    {
     "name": "stdout",
     "output_type": "stream",
     "text": [
      "<PrefetchDataset shapes: {id: (), image: (32, 32, 3), label: ()}, types: {id: tf.string, image: tf.uint8, label: tf.int64}>\n"
     ]
    }
   ],
   "source": [
    "train_split, valid_split = ['train[:90%]', 'train[90%:]']\n",
    "train_data, info = tfds.load('cifar10', split=train_split, with_info=True)\n",
    "vaild_data = tfds.load('cifar10', split=valid_split)\n",
    "test_data = tfds.load('cifar10', split='test')\n",
    "\n",
    "print(train_data)\n"
   ]
  },
  {
   "cell_type": "code",
   "execution_count": 4,
   "metadata": {},
   "outputs": [],
   "source": [
    "AUTOTUNE = tf.data.experimental.AUTOTUNE\n",
    "batch_size = 64\n",
    "train_num = int(info.splits['train'].num_examples / 10 )* 9\n",
    "\n",
    "train_data = train_data.shuffle(train_num)\n",
    "train_data = train_data.map(map_func=parse_aug_fn, num_parallel_calls=AUTOTUNE)\n",
    "train_data = train_data.batch(batch_size).prefetch(buffer_size=AUTOTUNE)\n",
    "\n",
    "vaild_data = vaild_data.map(map_func=parse_fn, num_parallel_calls=AUTOTUNE)\n",
    "vaild_data = vaild_data.batch(batch_size).prefetch(buffer_size=AUTOTUNE)\n",
    "\n",
    "test_data = test_data.map(map_func=parse_fn, num_parallel_calls=AUTOTUNE)\n",
    "test_data = test_data.batch(batch_size).prefetch(buffer_size=AUTOTUNE)\n",
    "\n"
   ]
  },
  {
   "cell_type": "code",
   "execution_count": 7,
   "metadata": {},
   "outputs": [],
   "source": [
    "def bulid_and_train_model(run_name,init):\n",
    "    inputs = keras.Input(shape=(32, 32, 3))\n",
    "    x = layers.Conv2D(64, (3, 3), kernel_initializer=init, activation='relu')(inputs)\n",
    "    x = layers.MaxPool2D()(x)\n",
    "    x = layers.Conv2D(128, (3, 3), kernel_initializer=init, activation='relu')(x)\n",
    "    x = layers.Conv2D(256, (3, 3), kernel_initializer=init, activation='relu')(x)\n",
    "    x = layers.Conv2D(128, (3, 3), kernel_initializer=init, activation='relu')(x)\n",
    "    x = layers.Conv2D(64, (3, 3), kernel_initializer=init, activation='relu')(x)\n",
    "    x = layers.Flatten()(x)\n",
    "    x = layers.Dense(64, kernel_initializer=init, activation='relu')(x)\n",
    "    x = layers.Dropout(0.5)(x)\n",
    "    outputs = layers.Dense(10, kernel_initializer=init, activation='softmax')(x)\n",
    "    model = keras.Model(inputs, outputs)\n",
    "    logfiles = 'lab5-logs/{}'.format(run_name)\n",
    "    model_mbk = keras.callbacks.TensorBoard(logfiles, histogram_freq=1)\n",
    "    model_file = logfiles + '/model'.format(run_name)\n",
    "    model_mckp = keras.callbacks.ModelCheckpoint(model_file, save_best_only=True,model='max',monitor='val_categorical_accuracy')\n",
    "\n",
    "    model.compile(keras.optimizers.Adam(), loss=keras.losses.CategoricalCrossentropy(), metrics=[keras.metrics.CategoricalAccuracy()])\n",
    "\n",
    "    model.fit(train_data, epochs=50, validation_data=vaild_data, callbacks=[model_mbk, model_mckp])"
   ]
  },
  {
   "cell_type": "code",
   "execution_count": 8,
   "metadata": {},
   "outputs": [
    {
     "name": "stdout",
     "output_type": "stream",
     "text": [
      "---runing session 1 with init RandomNormal---\n",
      "Epoch 1/50\n",
      "  2/704 [..............................] - ETA: 12:39 - loss: 2.3520 - categorical_accuracy: 0.1016WARNING:tensorflow:Callbacks method `on_train_batch_end` is slow compared to the batch time (batch time: 0.0254s vs `on_train_batch_end` time: 2.0976s). Check your callbacks.\n"
     ]
    },
    {
     "name": "stderr",
     "output_type": "stream",
     "text": [
      "WARNING:tensorflow:Callbacks method `on_train_batch_end` is slow compared to the batch time (batch time: 0.0254s vs `on_train_batch_end` time: 2.0976s). Check your callbacks.\n"
     ]
    },
    {
     "name": "stdout",
     "output_type": "stream",
     "text": [
      "700/704 [============================>.] - ETA: 0s - loss: 1.9896 - categorical_accuracy: 0.2529INFO:tensorflow:Assets written to: lab5-logs/run-1\\model\\assets\n"
     ]
    },
    {
     "name": "stderr",
     "output_type": "stream",
     "text": [
      "INFO:tensorflow:Assets written to: lab5-logs/run-1\\model\\assets\n"
     ]
    },
    {
     "name": "stdout",
     "output_type": "stream",
     "text": [
      "704/704 [==============================] - 19s 27ms/step - loss: 1.9886 - categorical_accuracy: 0.2535 - val_loss: 1.7257 - val_categorical_accuracy: 0.3646\n",
      "Epoch 2/50\n",
      "704/704 [==============================] - ETA: 0s - loss: 1.7022 - categorical_accuracy: 0.3776INFO:tensorflow:Assets written to: lab5-logs/run-1\\model\\assets\n"
     ]
    },
    {
     "name": "stderr",
     "output_type": "stream",
     "text": [
      "INFO:tensorflow:Assets written to: lab5-logs/run-1\\model\\assets\n"
     ]
    },
    {
     "name": "stdout",
     "output_type": "stream",
     "text": [
      "704/704 [==============================] - 17s 24ms/step - loss: 1.7022 - categorical_accuracy: 0.3776 - val_loss: 1.4123 - val_categorical_accuracy: 0.4902\n",
      "Epoch 3/50\n",
      "703/704 [============================>.] - ETA: 0s - loss: 1.5415 - categorical_accuracy: 0.4493INFO:tensorflow:Assets written to: lab5-logs/run-1\\model\\assets\n"
     ]
    },
    {
     "name": "stderr",
     "output_type": "stream",
     "text": [
      "INFO:tensorflow:Assets written to: lab5-logs/run-1\\model\\assets\n"
     ]
    },
    {
     "name": "stdout",
     "output_type": "stream",
     "text": [
      "704/704 [==============================] - 18s 25ms/step - loss: 1.5415 - categorical_accuracy: 0.4492 - val_loss: 1.2918 - val_categorical_accuracy: 0.5294\n",
      "Epoch 4/50\n",
      "700/704 [============================>.] - ETA: 0s - loss: 1.4357 - categorical_accuracy: 0.4918INFO:tensorflow:Assets written to: lab5-logs/run-1\\model\\assets\n"
     ]
    },
    {
     "name": "stderr",
     "output_type": "stream",
     "text": [
      "INFO:tensorflow:Assets written to: lab5-logs/run-1\\model\\assets\n"
     ]
    },
    {
     "name": "stdout",
     "output_type": "stream",
     "text": [
      "704/704 [==============================] - 17s 25ms/step - loss: 1.4353 - categorical_accuracy: 0.4920 - val_loss: 1.3524 - val_categorical_accuracy: 0.5306\n",
      "Epoch 5/50\n",
      "701/704 [============================>.] - ETA: 0s - loss: 1.3468 - categorical_accuracy: 0.5268INFO:tensorflow:Assets written to: lab5-logs/run-1\\model\\assets\n"
     ]
    },
    {
     "name": "stderr",
     "output_type": "stream",
     "text": [
      "INFO:tensorflow:Assets written to: lab5-logs/run-1\\model\\assets\n"
     ]
    },
    {
     "name": "stdout",
     "output_type": "stream",
     "text": [
      "704/704 [==============================] - 15s 21ms/step - loss: 1.3470 - categorical_accuracy: 0.5268 - val_loss: 1.0480 - val_categorical_accuracy: 0.6210\n",
      "Epoch 6/50\n",
      "699/704 [============================>.] - ETA: 0s - loss: 1.2743 - categorical_accuracy: 0.5560INFO:tensorflow:Assets written to: lab5-logs/run-1\\model\\assets\n"
     ]
    },
    {
     "name": "stderr",
     "output_type": "stream",
     "text": [
      "INFO:tensorflow:Assets written to: lab5-logs/run-1\\model\\assets\n"
     ]
    },
    {
     "name": "stdout",
     "output_type": "stream",
     "text": [
      "704/704 [==============================] - 16s 23ms/step - loss: 1.2737 - categorical_accuracy: 0.5562 - val_loss: 1.0412 - val_categorical_accuracy: 0.6288\n",
      "Epoch 7/50\n",
      "701/704 [============================>.] - ETA: 0s - loss: 1.2237 - categorical_accuracy: 0.5740INFO:tensorflow:Assets written to: lab5-logs/run-1\\model\\assets\n"
     ]
    },
    {
     "name": "stderr",
     "output_type": "stream",
     "text": [
      "INFO:tensorflow:Assets written to: lab5-logs/run-1\\model\\assets\n"
     ]
    },
    {
     "name": "stdout",
     "output_type": "stream",
     "text": [
      "704/704 [==============================] - 15s 21ms/step - loss: 1.2232 - categorical_accuracy: 0.5740 - val_loss: 0.9299 - val_categorical_accuracy: 0.6690\n",
      "Epoch 8/50\n",
      "703/704 [============================>.] - ETA: 0s - loss: 1.1677 - categorical_accuracy: 0.5969INFO:tensorflow:Assets written to: lab5-logs/run-1\\model\\assets\n"
     ]
    },
    {
     "name": "stderr",
     "output_type": "stream",
     "text": [
      "INFO:tensorflow:Assets written to: lab5-logs/run-1\\model\\assets\n"
     ]
    },
    {
     "name": "stdout",
     "output_type": "stream",
     "text": [
      "704/704 [==============================] - 19s 27ms/step - loss: 1.1677 - categorical_accuracy: 0.5969 - val_loss: 0.9257 - val_categorical_accuracy: 0.6720\n",
      "Epoch 9/50\n",
      "702/704 [============================>.] - ETA: 0s - loss: 1.1234 - categorical_accuracy: 0.6119INFO:tensorflow:Assets written to: lab5-logs/run-1\\model\\assets\n"
     ]
    },
    {
     "name": "stderr",
     "output_type": "stream",
     "text": [
      "INFO:tensorflow:Assets written to: lab5-logs/run-1\\model\\assets\n"
     ]
    },
    {
     "name": "stdout",
     "output_type": "stream",
     "text": [
      "704/704 [==============================] - 21s 30ms/step - loss: 1.1232 - categorical_accuracy: 0.6120 - val_loss: 0.8690 - val_categorical_accuracy: 0.6902\n",
      "Epoch 10/50\n",
      "701/704 [============================>.] - ETA: 0s - loss: 1.0969 - categorical_accuracy: 0.6209INFO:tensorflow:Assets written to: lab5-logs/run-1\\model\\assets\n"
     ]
    },
    {
     "name": "stderr",
     "output_type": "stream",
     "text": [
      "INFO:tensorflow:Assets written to: lab5-logs/run-1\\model\\assets\n"
     ]
    },
    {
     "name": "stdout",
     "output_type": "stream",
     "text": [
      "704/704 [==============================] - 19s 27ms/step - loss: 1.0970 - categorical_accuracy: 0.6208 - val_loss: 0.8192 - val_categorical_accuracy: 0.7128\n",
      "Epoch 11/50\n",
      "704/704 [==============================] - 9s 13ms/step - loss: 1.0589 - categorical_accuracy: 0.6357 - val_loss: 0.8269 - val_categorical_accuracy: 0.7112\n",
      "Epoch 12/50\n",
      "701/704 [============================>.] - ETA: 0s - loss: 1.0319 - categorical_accuracy: 0.6436INFO:tensorflow:Assets written to: lab5-logs/run-1\\model\\assets\n"
     ]
    },
    {
     "name": "stderr",
     "output_type": "stream",
     "text": [
      "INFO:tensorflow:Assets written to: lab5-logs/run-1\\model\\assets\n"
     ]
    },
    {
     "name": "stdout",
     "output_type": "stream",
     "text": [
      "704/704 [==============================] - 16s 22ms/step - loss: 1.0312 - categorical_accuracy: 0.6438 - val_loss: 0.7547 - val_categorical_accuracy: 0.7368\n",
      "Epoch 13/50\n",
      "704/704 [==============================] - 10s 14ms/step - loss: 0.9978 - categorical_accuracy: 0.6609 - val_loss: 0.7711 - val_categorical_accuracy: 0.7334\n",
      "Epoch 14/50\n",
      "702/704 [============================>.] - ETA: 0s - loss: 0.9778 - categorical_accuracy: 0.6692INFO:tensorflow:Assets written to: lab5-logs/run-1\\model\\assets\n"
     ]
    },
    {
     "name": "stderr",
     "output_type": "stream",
     "text": [
      "INFO:tensorflow:Assets written to: lab5-logs/run-1\\model\\assets\n"
     ]
    },
    {
     "name": "stdout",
     "output_type": "stream",
     "text": [
      "704/704 [==============================] - 19s 27ms/step - loss: 0.9771 - categorical_accuracy: 0.6694 - val_loss: 0.7342 - val_categorical_accuracy: 0.7402\n",
      "Epoch 15/50\n",
      "704/704 [==============================] - 11s 15ms/step - loss: 0.9500 - categorical_accuracy: 0.6777 - val_loss: 0.7554 - val_categorical_accuracy: 0.7386\n",
      "Epoch 16/50\n",
      "703/704 [============================>.] - ETA: 0s - loss: 0.9362 - categorical_accuracy: 0.6827INFO:tensorflow:Assets written to: lab5-logs/run-1\\model\\assets\n"
     ]
    },
    {
     "name": "stderr",
     "output_type": "stream",
     "text": [
      "INFO:tensorflow:Assets written to: lab5-logs/run-1\\model\\assets\n"
     ]
    },
    {
     "name": "stdout",
     "output_type": "stream",
     "text": [
      "704/704 [==============================] - 14s 20ms/step - loss: 0.9362 - categorical_accuracy: 0.6827 - val_loss: 0.7233 - val_categorical_accuracy: 0.7510\n",
      "Epoch 17/50\n",
      "702/704 [============================>.] - ETA: 0s - loss: 0.9168 - categorical_accuracy: 0.6928INFO:tensorflow:Assets written to: lab5-logs/run-1\\model\\assets\n"
     ]
    },
    {
     "name": "stderr",
     "output_type": "stream",
     "text": [
      "INFO:tensorflow:Assets written to: lab5-logs/run-1\\model\\assets\n"
     ]
    },
    {
     "name": "stdout",
     "output_type": "stream",
     "text": [
      "704/704 [==============================] - 21s 29ms/step - loss: 0.9171 - categorical_accuracy: 0.6926 - val_loss: 0.7047 - val_categorical_accuracy: 0.7558\n",
      "Epoch 18/50\n",
      "702/704 [============================>.] - ETA: 0s - loss: 0.8978 - categorical_accuracy: 0.6976INFO:tensorflow:Assets written to: lab5-logs/run-1\\model\\assets\n"
     ]
    },
    {
     "name": "stderr",
     "output_type": "stream",
     "text": [
      "INFO:tensorflow:Assets written to: lab5-logs/run-1\\model\\assets\n"
     ]
    },
    {
     "name": "stdout",
     "output_type": "stream",
     "text": [
      "704/704 [==============================] - 18s 25ms/step - loss: 0.8977 - categorical_accuracy: 0.6976 - val_loss: 0.6835 - val_categorical_accuracy: 0.7592\n",
      "Epoch 19/50\n",
      "704/704 [==============================] - 10s 14ms/step - loss: 0.8824 - categorical_accuracy: 0.7045 - val_loss: 0.7258 - val_categorical_accuracy: 0.7562\n",
      "Epoch 20/50\n",
      "703/704 [============================>.] - ETA: 0s - loss: 0.8660 - categorical_accuracy: 0.7088INFO:tensorflow:Assets written to: lab5-logs/run-1\\model\\assets\n"
     ]
    },
    {
     "name": "stderr",
     "output_type": "stream",
     "text": [
      "INFO:tensorflow:Assets written to: lab5-logs/run-1\\model\\assets\n"
     ]
    },
    {
     "name": "stdout",
     "output_type": "stream",
     "text": [
      "704/704 [==============================] - 16s 22ms/step - loss: 0.8660 - categorical_accuracy: 0.7088 - val_loss: 0.6858 - val_categorical_accuracy: 0.7718\n",
      "Epoch 21/50\n",
      "704/704 [==============================] - 10s 14ms/step - loss: 0.8596 - categorical_accuracy: 0.7133 - val_loss: 0.6883 - val_categorical_accuracy: 0.7700\n",
      "Epoch 22/50\n",
      "704/704 [==============================] - 9s 13ms/step - loss: 0.8335 - categorical_accuracy: 0.7210 - val_loss: 0.6848 - val_categorical_accuracy: 0.7660\n",
      "Epoch 23/50\n",
      "703/704 [============================>.] - ETA: 0s - loss: 0.8246 - categorical_accuracy: 0.7249INFO:tensorflow:Assets written to: lab5-logs/run-1\\model\\assets\n"
     ]
    },
    {
     "name": "stderr",
     "output_type": "stream",
     "text": [
      "INFO:tensorflow:Assets written to: lab5-logs/run-1\\model\\assets\n"
     ]
    },
    {
     "name": "stdout",
     "output_type": "stream",
     "text": [
      "704/704 [==============================] - 15s 22ms/step - loss: 0.8248 - categorical_accuracy: 0.7249 - val_loss: 0.6688 - val_categorical_accuracy: 0.7724\n",
      "Epoch 24/50\n",
      "703/704 [============================>.] - ETA: 0s - loss: 0.8240 - categorical_accuracy: 0.7242INFO:tensorflow:Assets written to: lab5-logs/run-1\\model\\assets\n"
     ]
    },
    {
     "name": "stderr",
     "output_type": "stream",
     "text": [
      "INFO:tensorflow:Assets written to: lab5-logs/run-1\\model\\assets\n"
     ]
    },
    {
     "name": "stdout",
     "output_type": "stream",
     "text": [
      "704/704 [==============================] - 15s 22ms/step - loss: 0.8239 - categorical_accuracy: 0.7242 - val_loss: 0.6566 - val_categorical_accuracy: 0.7820\n",
      "Epoch 25/50\n",
      "704/704 [==============================] - 10s 14ms/step - loss: 0.8035 - categorical_accuracy: 0.7337 - val_loss: 0.7252 - val_categorical_accuracy: 0.7584\n",
      "Epoch 26/50\n",
      "704/704 [==============================] - 9s 13ms/step - loss: 0.8012 - categorical_accuracy: 0.7349 - val_loss: 0.6559 - val_categorical_accuracy: 0.7798\n",
      "Epoch 27/50\n",
      "700/704 [============================>.] - ETA: 0s - loss: 0.7733 - categorical_accuracy: 0.7423INFO:tensorflow:Assets written to: lab5-logs/run-1\\model\\assets\n"
     ]
    },
    {
     "name": "stderr",
     "output_type": "stream",
     "text": [
      "INFO:tensorflow:Assets written to: lab5-logs/run-1\\model\\assets\n"
     ]
    },
    {
     "name": "stdout",
     "output_type": "stream",
     "text": [
      "704/704 [==============================] - 19s 28ms/step - loss: 0.7734 - categorical_accuracy: 0.7421 - val_loss: 0.6365 - val_categorical_accuracy: 0.7864\n",
      "Epoch 28/50\n",
      "704/704 [==============================] - 10s 14ms/step - loss: 0.7710 - categorical_accuracy: 0.7445 - val_loss: 0.6506 - val_categorical_accuracy: 0.7790\n",
      "Epoch 29/50\n",
      "703/704 [============================>.] - ETA: 0s - loss: 0.7708 - categorical_accuracy: 0.7459INFO:tensorflow:Assets written to: lab5-logs/run-1\\model\\assets\n"
     ]
    },
    {
     "name": "stderr",
     "output_type": "stream",
     "text": [
      "INFO:tensorflow:Assets written to: lab5-logs/run-1\\model\\assets\n"
     ]
    },
    {
     "name": "stdout",
     "output_type": "stream",
     "text": [
      "704/704 [==============================] - 18s 26ms/step - loss: 0.7708 - categorical_accuracy: 0.7459 - val_loss: 0.6250 - val_categorical_accuracy: 0.7896\n",
      "Epoch 30/50\n",
      "701/704 [============================>.] - ETA: 0s - loss: 0.7534 - categorical_accuracy: 0.7514INFO:tensorflow:Assets written to: lab5-logs/run-1\\model\\assets\n"
     ]
    },
    {
     "name": "stderr",
     "output_type": "stream",
     "text": [
      "INFO:tensorflow:Assets written to: lab5-logs/run-1\\model\\assets\n"
     ]
    },
    {
     "name": "stdout",
     "output_type": "stream",
     "text": [
      "704/704 [==============================] - 15s 21ms/step - loss: 0.7533 - categorical_accuracy: 0.7515 - val_loss: 0.6212 - val_categorical_accuracy: 0.7920\n",
      "Epoch 31/50\n",
      "704/704 [==============================] - 10s 14ms/step - loss: 0.7462 - categorical_accuracy: 0.7546 - val_loss: 0.6666 - val_categorical_accuracy: 0.7830\n",
      "Epoch 32/50\n",
      "703/704 [============================>.] - ETA: 0s - loss: 0.7369 - categorical_accuracy: 0.7561INFO:tensorflow:Assets written to: lab5-logs/run-1\\model\\assets\n"
     ]
    },
    {
     "name": "stderr",
     "output_type": "stream",
     "text": [
      "INFO:tensorflow:Assets written to: lab5-logs/run-1\\model\\assets\n"
     ]
    },
    {
     "name": "stdout",
     "output_type": "stream",
     "text": [
      "704/704 [==============================] - 14s 20ms/step - loss: 0.7368 - categorical_accuracy: 0.7561 - val_loss: 0.6214 - val_categorical_accuracy: 0.7924\n",
      "Epoch 33/50\n",
      "704/704 [==============================] - 10s 14ms/step - loss: 0.7384 - categorical_accuracy: 0.7579 - val_loss: 0.6303 - val_categorical_accuracy: 0.7924\n",
      "Epoch 34/50\n",
      "704/704 [==============================] - 9s 13ms/step - loss: 0.7199 - categorical_accuracy: 0.7613 - val_loss: 0.6948 - val_categorical_accuracy: 0.7686\n",
      "Epoch 35/50\n",
      "700/704 [============================>.] - ETA: 0s - loss: 0.7256 - categorical_accuracy: 0.7613INFO:tensorflow:Assets written to: lab5-logs/run-1\\model\\assets\n"
     ]
    },
    {
     "name": "stderr",
     "output_type": "stream",
     "text": [
      "INFO:tensorflow:Assets written to: lab5-logs/run-1\\model\\assets\n"
     ]
    },
    {
     "name": "stdout",
     "output_type": "stream",
     "text": [
      "704/704 [==============================] - 19s 27ms/step - loss: 0.7250 - categorical_accuracy: 0.7616 - val_loss: 0.6235 - val_categorical_accuracy: 0.7944\n",
      "Epoch 36/50\n",
      "701/704 [============================>.] - ETA: 0s - loss: 0.7167 - categorical_accuracy: 0.7636INFO:tensorflow:Assets written to: lab5-logs/run-1\\model\\assets\n"
     ]
    },
    {
     "name": "stderr",
     "output_type": "stream",
     "text": [
      "INFO:tensorflow:Assets written to: lab5-logs/run-1\\model\\assets\n"
     ]
    },
    {
     "name": "stdout",
     "output_type": "stream",
     "text": [
      "704/704 [==============================] - 14s 20ms/step - loss: 0.7173 - categorical_accuracy: 0.7635 - val_loss: 0.6111 - val_categorical_accuracy: 0.7960\n",
      "Epoch 37/50\n",
      "704/704 [==============================] - 10s 14ms/step - loss: 0.7059 - categorical_accuracy: 0.7696 - val_loss: 0.6371 - val_categorical_accuracy: 0.7916\n",
      "Epoch 38/50\n",
      "704/704 [==============================] - 9s 13ms/step - loss: 0.7020 - categorical_accuracy: 0.7680 - val_loss: 0.6524 - val_categorical_accuracy: 0.7828\n",
      "Epoch 39/50\n",
      "704/704 [==============================] - 9s 13ms/step - loss: 0.6973 - categorical_accuracy: 0.7724 - val_loss: 0.6374 - val_categorical_accuracy: 0.7900\n",
      "Epoch 40/50\n",
      "701/704 [============================>.] - ETA: 0s - loss: 0.6732 - categorical_accuracy: 0.7790INFO:tensorflow:Assets written to: lab5-logs/run-1\\model\\assets\n"
     ]
    },
    {
     "name": "stderr",
     "output_type": "stream",
     "text": [
      "INFO:tensorflow:Assets written to: lab5-logs/run-1\\model\\assets\n"
     ]
    },
    {
     "name": "stdout",
     "output_type": "stream",
     "text": [
      "704/704 [==============================] - 20s 28ms/step - loss: 0.6734 - categorical_accuracy: 0.7790 - val_loss: 0.6023 - val_categorical_accuracy: 0.7996\n",
      "Epoch 41/50\n",
      "704/704 [==============================] - 9s 13ms/step - loss: 0.6714 - categorical_accuracy: 0.7800 - val_loss: 0.5979 - val_categorical_accuracy: 0.7980\n",
      "Epoch 42/50\n",
      "704/704 [==============================] - 10s 15ms/step - loss: 0.6723 - categorical_accuracy: 0.7794 - val_loss: 0.6175 - val_categorical_accuracy: 0.7954\n",
      "Epoch 43/50\n",
      "704/704 [==============================] - 9s 13ms/step - loss: 0.6658 - categorical_accuracy: 0.7822 - val_loss: 0.6611 - val_categorical_accuracy: 0.7896\n",
      "Epoch 44/50\n",
      "704/704 [==============================] - 9s 13ms/step - loss: 0.6805 - categorical_accuracy: 0.7775 - val_loss: 0.6360 - val_categorical_accuracy: 0.7954\n",
      "Epoch 45/50\n",
      "701/704 [============================>.] - ETA: 0s - loss: 0.6487 - categorical_accuracy: 0.7899INFO:tensorflow:Assets written to: lab5-logs/run-1\\model\\assets\n"
     ]
    },
    {
     "name": "stderr",
     "output_type": "stream",
     "text": [
      "INFO:tensorflow:Assets written to: lab5-logs/run-1\\model\\assets\n"
     ]
    },
    {
     "name": "stdout",
     "output_type": "stream",
     "text": [
      "704/704 [==============================] - 16s 23ms/step - loss: 0.6483 - categorical_accuracy: 0.7899 - val_loss: 0.6286 - val_categorical_accuracy: 0.8032\n",
      "Epoch 46/50\n",
      "704/704 [==============================] - 10s 14ms/step - loss: 0.6664 - categorical_accuracy: 0.7835 - val_loss: 0.6151 - val_categorical_accuracy: 0.8020\n",
      "Epoch 47/50\n",
      "704/704 [==============================] - 9s 13ms/step - loss: 0.6663 - categorical_accuracy: 0.7832 - val_loss: 0.6200 - val_categorical_accuracy: 0.8008\n",
      "Epoch 48/50\n",
      "704/704 [==============================] - 9s 13ms/step - loss: 0.6415 - categorical_accuracy: 0.7897 - val_loss: 0.6938 - val_categorical_accuracy: 0.7824\n",
      "Epoch 49/50\n",
      "704/704 [==============================] - 10s 14ms/step - loss: 0.6455 - categorical_accuracy: 0.7908 - val_loss: 0.6407 - val_categorical_accuracy: 0.7950\n",
      "Epoch 50/50\n",
      "704/704 [==============================] - 10s 14ms/step - loss: 0.6408 - categorical_accuracy: 0.7914 - val_loss: 0.6212 - val_categorical_accuracy: 0.8016\n",
      "---runing session 2 with init GlorotNormal---\n",
      "Epoch 1/50\n",
      "  2/704 [..............................] - ETA: 6:27 - loss: 2.2816 - categorical_accuracy: 0.1641WARNING:tensorflow:Callbacks method `on_train_batch_end` is slow compared to the batch time (batch time: 0.0000s vs `on_train_batch_end` time: 1.1046s). Check your callbacks.\n"
     ]
    },
    {
     "name": "stderr",
     "output_type": "stream",
     "text": [
      "WARNING:tensorflow:Callbacks method `on_train_batch_end` is slow compared to the batch time (batch time: 0.0000s vs `on_train_batch_end` time: 1.1046s). Check your callbacks.\n"
     ]
    },
    {
     "name": "stdout",
     "output_type": "stream",
     "text": [
      "701/704 [============================>.] - ETA: 0s - loss: 2.0272 - categorical_accuracy: 0.2309INFO:tensorflow:Assets written to: lab5-logs/run-2\\model\\assets\n"
     ]
    },
    {
     "name": "stderr",
     "output_type": "stream",
     "text": [
      "INFO:tensorflow:Assets written to: lab5-logs/run-2\\model\\assets\n"
     ]
    },
    {
     "name": "stdout",
     "output_type": "stream",
     "text": [
      "704/704 [==============================] - 20s 28ms/step - loss: 2.0270 - categorical_accuracy: 0.2311 - val_loss: 1.7782 - val_categorical_accuracy: 0.3760\n",
      "Epoch 2/50\n",
      "703/704 [============================>.] - ETA: 0s - loss: 1.7641 - categorical_accuracy: 0.3525INFO:tensorflow:Assets written to: lab5-logs/run-2\\model\\assets\n"
     ]
    },
    {
     "name": "stderr",
     "output_type": "stream",
     "text": [
      "INFO:tensorflow:Assets written to: lab5-logs/run-2\\model\\assets\n"
     ]
    },
    {
     "name": "stdout",
     "output_type": "stream",
     "text": [
      "704/704 [==============================] - 16s 23ms/step - loss: 1.7642 - categorical_accuracy: 0.3524 - val_loss: 1.4765 - val_categorical_accuracy: 0.4516\n",
      "Epoch 3/50\n",
      "704/704 [==============================] - ETA: 0s - loss: 1.6138 - categorical_accuracy: 0.4183INFO:tensorflow:Assets written to: lab5-logs/run-2\\model\\assets\n"
     ]
    },
    {
     "name": "stderr",
     "output_type": "stream",
     "text": [
      "INFO:tensorflow:Assets written to: lab5-logs/run-2\\model\\assets\n"
     ]
    },
    {
     "name": "stdout",
     "output_type": "stream",
     "text": [
      "704/704 [==============================] - 14s 20ms/step - loss: 1.6138 - categorical_accuracy: 0.4183 - val_loss: 1.3404 - val_categorical_accuracy: 0.5210\n",
      "Epoch 4/50\n",
      "702/704 [============================>.] - ETA: 0s - loss: 1.5208 - categorical_accuracy: 0.4587INFO:tensorflow:Assets written to: lab5-logs/run-2\\model\\assets\n"
     ]
    },
    {
     "name": "stderr",
     "output_type": "stream",
     "text": [
      "INFO:tensorflow:Assets written to: lab5-logs/run-2\\model\\assets\n"
     ]
    },
    {
     "name": "stdout",
     "output_type": "stream",
     "text": [
      "704/704 [==============================] - 14s 20ms/step - loss: 1.5205 - categorical_accuracy: 0.4589 - val_loss: 1.2473 - val_categorical_accuracy: 0.5544\n",
      "Epoch 5/50\n",
      "703/704 [============================>.] - ETA: 0s - loss: 1.4475 - categorical_accuracy: 0.4846INFO:tensorflow:Assets written to: lab5-logs/run-2\\model\\assets\n"
     ]
    },
    {
     "name": "stderr",
     "output_type": "stream",
     "text": [
      "INFO:tensorflow:Assets written to: lab5-logs/run-2\\model\\assets\n"
     ]
    },
    {
     "name": "stdout",
     "output_type": "stream",
     "text": [
      "704/704 [==============================] - 13s 19ms/step - loss: 1.4475 - categorical_accuracy: 0.4846 - val_loss: 1.1561 - val_categorical_accuracy: 0.5864\n",
      "Epoch 6/50\n",
      "701/704 [============================>.] - ETA: 0s - loss: 1.3823 - categorical_accuracy: 0.5103INFO:tensorflow:Assets written to: lab5-logs/run-2\\model\\assets\n"
     ]
    },
    {
     "name": "stderr",
     "output_type": "stream",
     "text": [
      "INFO:tensorflow:Assets written to: lab5-logs/run-2\\model\\assets\n"
     ]
    },
    {
     "name": "stdout",
     "output_type": "stream",
     "text": [
      "704/704 [==============================] - 16s 22ms/step - loss: 1.3826 - categorical_accuracy: 0.5102 - val_loss: 1.0843 - val_categorical_accuracy: 0.6076\n",
      "Epoch 7/50\n",
      "704/704 [==============================] - 10s 15ms/step - loss: 1.3425 - categorical_accuracy: 0.5280 - val_loss: 1.1186 - val_categorical_accuracy: 0.5930\n",
      "Epoch 8/50\n",
      "701/704 [============================>.] - ETA: 0s - loss: 1.2862 - categorical_accuracy: 0.5451INFO:tensorflow:Assets written to: lab5-logs/run-2\\model\\assets\n"
     ]
    },
    {
     "name": "stderr",
     "output_type": "stream",
     "text": [
      "INFO:tensorflow:Assets written to: lab5-logs/run-2\\model\\assets\n"
     ]
    },
    {
     "name": "stdout",
     "output_type": "stream",
     "text": [
      "704/704 [==============================] - 16s 22ms/step - loss: 1.2861 - categorical_accuracy: 0.5452 - val_loss: 0.9901 - val_categorical_accuracy: 0.6340\n",
      "Epoch 9/50\n",
      "701/704 [============================>.] - ETA: 0s - loss: 1.2405 - categorical_accuracy: 0.5655INFO:tensorflow:Assets written to: lab5-logs/run-2\\model\\assets\n"
     ]
    },
    {
     "name": "stderr",
     "output_type": "stream",
     "text": [
      "INFO:tensorflow:Assets written to: lab5-logs/run-2\\model\\assets\n"
     ]
    },
    {
     "name": "stdout",
     "output_type": "stream",
     "text": [
      "704/704 [==============================] - 18s 25ms/step - loss: 1.2409 - categorical_accuracy: 0.5652 - val_loss: 1.0241 - val_categorical_accuracy: 0.6452\n",
      "Epoch 10/50\n",
      "701/704 [============================>.] - ETA: 0s - loss: 1.2266 - categorical_accuracy: 0.5682INFO:tensorflow:Assets written to: lab5-logs/run-2\\model\\assets\n"
     ]
    },
    {
     "name": "stderr",
     "output_type": "stream",
     "text": [
      "INFO:tensorflow:Assets written to: lab5-logs/run-2\\model\\assets\n"
     ]
    },
    {
     "name": "stdout",
     "output_type": "stream",
     "text": [
      "704/704 [==============================] - 19s 27ms/step - loss: 1.2263 - categorical_accuracy: 0.5683 - val_loss: 0.9577 - val_categorical_accuracy: 0.6594\n",
      "Epoch 11/50\n",
      "704/704 [==============================] - 9s 13ms/step - loss: 1.1919 - categorical_accuracy: 0.5846 - val_loss: 1.0300 - val_categorical_accuracy: 0.6334\n",
      "Epoch 12/50\n",
      "703/704 [============================>.] - ETA: 0s - loss: 1.1620 - categorical_accuracy: 0.5971INFO:tensorflow:Assets written to: lab5-logs/run-2\\model\\assets\n"
     ]
    },
    {
     "name": "stderr",
     "output_type": "stream",
     "text": [
      "INFO:tensorflow:Assets written to: lab5-logs/run-2\\model\\assets\n"
     ]
    },
    {
     "name": "stdout",
     "output_type": "stream",
     "text": [
      "704/704 [==============================] - 15s 21ms/step - loss: 1.1620 - categorical_accuracy: 0.5971 - val_loss: 0.8800 - val_categorical_accuracy: 0.6874\n",
      "Epoch 13/50\n",
      "699/704 [============================>.] - ETA: 0s - loss: 1.1312 - categorical_accuracy: 0.6085INFO:tensorflow:Assets written to: lab5-logs/run-2\\model\\assets\n"
     ]
    },
    {
     "name": "stderr",
     "output_type": "stream",
     "text": [
      "INFO:tensorflow:Assets written to: lab5-logs/run-2\\model\\assets\n"
     ]
    },
    {
     "name": "stdout",
     "output_type": "stream",
     "text": [
      "704/704 [==============================] - 10s 15ms/step - loss: 1.1312 - categorical_accuracy: 0.6084 - val_loss: 0.8806 - val_categorical_accuracy: 0.6884\n",
      "Epoch 14/50\n",
      "700/704 [============================>.] - ETA: 0s - loss: 1.1107 - categorical_accuracy: 0.6150INFO:tensorflow:Assets written to: lab5-logs/run-2\\model\\assets\n"
     ]
    },
    {
     "name": "stderr",
     "output_type": "stream",
     "text": [
      "INFO:tensorflow:Assets written to: lab5-logs/run-2\\model\\assets\n"
     ]
    },
    {
     "name": "stdout",
     "output_type": "stream",
     "text": [
      "704/704 [==============================] - 19s 27ms/step - loss: 1.1107 - categorical_accuracy: 0.6150 - val_loss: 0.8605 - val_categorical_accuracy: 0.7002\n",
      "Epoch 15/50\n",
      "704/704 [==============================] - 10s 14ms/step - loss: 1.0900 - categorical_accuracy: 0.6271 - val_loss: 0.8983 - val_categorical_accuracy: 0.6900\n",
      "Epoch 16/50\n",
      "701/704 [============================>.] - ETA: 0s - loss: 1.0699 - categorical_accuracy: 0.6331INFO:tensorflow:Assets written to: lab5-logs/run-2\\model\\assets\n"
     ]
    },
    {
     "name": "stderr",
     "output_type": "stream",
     "text": [
      "INFO:tensorflow:Assets written to: lab5-logs/run-2\\model\\assets\n"
     ]
    },
    {
     "name": "stdout",
     "output_type": "stream",
     "text": [
      "704/704 [==============================] - 16s 23ms/step - loss: 1.0697 - categorical_accuracy: 0.6332 - val_loss: 0.8223 - val_categorical_accuracy: 0.7082\n",
      "Epoch 17/50\n",
      "701/704 [============================>.] - ETA: 0s - loss: 1.0502 - categorical_accuracy: 0.6369INFO:tensorflow:Assets written to: lab5-logs/run-2\\model\\assets\n"
     ]
    },
    {
     "name": "stderr",
     "output_type": "stream",
     "text": [
      "INFO:tensorflow:Assets written to: lab5-logs/run-2\\model\\assets\n"
     ]
    },
    {
     "name": "stdout",
     "output_type": "stream",
     "text": [
      "704/704 [==============================] - 17s 25ms/step - loss: 1.0497 - categorical_accuracy: 0.6370 - val_loss: 0.8016 - val_categorical_accuracy: 0.7212\n",
      "Epoch 18/50\n",
      "704/704 [==============================] - 11s 15ms/step - loss: 1.0328 - categorical_accuracy: 0.6451 - val_loss: 0.8674 - val_categorical_accuracy: 0.7012\n",
      "Epoch 19/50\n",
      "699/704 [============================>.] - ETA: 0s - loss: 1.0271 - categorical_accuracy: 0.6473INFO:tensorflow:Assets written to: lab5-logs/run-2\\model\\assets\n"
     ]
    },
    {
     "name": "stderr",
     "output_type": "stream",
     "text": [
      "INFO:tensorflow:Assets written to: lab5-logs/run-2\\model\\assets\n"
     ]
    },
    {
     "name": "stdout",
     "output_type": "stream",
     "text": [
      "704/704 [==============================] - 11s 16ms/step - loss: 1.0274 - categorical_accuracy: 0.6473 - val_loss: 0.7882 - val_categorical_accuracy: 0.7228\n",
      "Epoch 20/50\n",
      "704/704 [==============================] - 9s 13ms/step - loss: 0.9996 - categorical_accuracy: 0.6564 - val_loss: 0.8061 - val_categorical_accuracy: 0.7218\n",
      "Epoch 21/50\n",
      "704/704 [==============================] - 9s 13ms/step - loss: 0.9866 - categorical_accuracy: 0.6613 - val_loss: 0.8198 - val_categorical_accuracy: 0.7210\n",
      "Epoch 22/50\n",
      "703/704 [============================>.] - ETA: 0s - loss: 0.9722 - categorical_accuracy: 0.6681INFO:tensorflow:Assets written to: lab5-logs/run-2\\model\\assets\n"
     ]
    },
    {
     "name": "stderr",
     "output_type": "stream",
     "text": [
      "INFO:tensorflow:Assets written to: lab5-logs/run-2\\model\\assets\n"
     ]
    },
    {
     "name": "stdout",
     "output_type": "stream",
     "text": [
      "704/704 [==============================] - 49s 70ms/step - loss: 0.9722 - categorical_accuracy: 0.6681 - val_loss: 0.8002 - val_categorical_accuracy: 0.7252\n",
      "Epoch 23/50\n",
      "704/704 [==============================] - 119s 169ms/step - loss: 0.9647 - categorical_accuracy: 0.6719 - val_loss: 0.8337 - val_categorical_accuracy: 0.7176\n",
      "Epoch 24/50\n",
      "703/704 [============================>.] - ETA: 0s - loss: 0.9546 - categorical_accuracy: 0.6741INFO:tensorflow:Assets written to: lab5-logs/run-2\\model\\assets\n"
     ]
    },
    {
     "name": "stderr",
     "output_type": "stream",
     "text": [
      "INFO:tensorflow:Assets written to: lab5-logs/run-2\\model\\assets\n"
     ]
    },
    {
     "name": "stdout",
     "output_type": "stream",
     "text": [
      "704/704 [==============================] - 124s 175ms/step - loss: 0.9547 - categorical_accuracy: 0.6741 - val_loss: 0.7741 - val_categorical_accuracy: 0.7354\n",
      "Epoch 25/50\n",
      "703/704 [============================>.] - ETA: 0s - loss: 0.9368 - categorical_accuracy: 0.6805INFO:tensorflow:Assets written to: lab5-logs/run-2\\model\\assets\n"
     ]
    },
    {
     "name": "stderr",
     "output_type": "stream",
     "text": [
      "INFO:tensorflow:Assets written to: lab5-logs/run-2\\model\\assets\n"
     ]
    },
    {
     "name": "stdout",
     "output_type": "stream",
     "text": [
      "704/704 [==============================] - 122s 174ms/step - loss: 0.9367 - categorical_accuracy: 0.6806 - val_loss: 0.7789 - val_categorical_accuracy: 0.7374\n",
      "Epoch 26/50\n",
      "703/704 [============================>.] - ETA: 0s - loss: 0.9228 - categorical_accuracy: 0.6871INFO:tensorflow:Assets written to: lab5-logs/run-2\\model\\assets\n"
     ]
    },
    {
     "name": "stderr",
     "output_type": "stream",
     "text": [
      "INFO:tensorflow:Assets written to: lab5-logs/run-2\\model\\assets\n"
     ]
    },
    {
     "name": "stdout",
     "output_type": "stream",
     "text": [
      "704/704 [==============================] - 130s 185ms/step - loss: 0.9228 - categorical_accuracy: 0.6871 - val_loss: 0.7376 - val_categorical_accuracy: 0.7422\n",
      "Epoch 27/50\n",
      "703/704 [============================>.] - ETA: 0s - loss: 0.9131 - categorical_accuracy: 0.6891INFO:tensorflow:Assets written to: lab5-logs/run-2\\model\\assets\n"
     ]
    },
    {
     "name": "stderr",
     "output_type": "stream",
     "text": [
      "INFO:tensorflow:Assets written to: lab5-logs/run-2\\model\\assets\n"
     ]
    },
    {
     "name": "stdout",
     "output_type": "stream",
     "text": [
      "704/704 [==============================] - 128s 181ms/step - loss: 0.9130 - categorical_accuracy: 0.6892 - val_loss: 0.7522 - val_categorical_accuracy: 0.7486\n",
      "Epoch 28/50\n",
      "704/704 [==============================] - 119s 169ms/step - loss: 0.8961 - categorical_accuracy: 0.6963 - val_loss: 0.7783 - val_categorical_accuracy: 0.7294\n",
      "Epoch 29/50\n",
      "703/704 [============================>.] - ETA: 0s - loss: 0.8941 - categorical_accuracy: 0.6947INFO:tensorflow:Assets written to: lab5-logs/run-2\\model\\assets\n"
     ]
    },
    {
     "name": "stderr",
     "output_type": "stream",
     "text": [
      "INFO:tensorflow:Assets written to: lab5-logs/run-2\\model\\assets\n"
     ]
    },
    {
     "name": "stdout",
     "output_type": "stream",
     "text": [
      "704/704 [==============================] - 128s 182ms/step - loss: 0.8940 - categorical_accuracy: 0.6947 - val_loss: 0.7342 - val_categorical_accuracy: 0.7500\n",
      "Epoch 30/50\n",
      "704/704 [==============================] - 119s 170ms/step - loss: 0.8880 - categorical_accuracy: 0.6969 - val_loss: 0.7550 - val_categorical_accuracy: 0.7428\n",
      "Epoch 31/50\n",
      "703/704 [============================>.] - ETA: 0s - loss: 0.8834 - categorical_accuracy: 0.7014INFO:tensorflow:Assets written to: lab5-logs/run-2\\model\\assets\n"
     ]
    },
    {
     "name": "stderr",
     "output_type": "stream",
     "text": [
      "INFO:tensorflow:Assets written to: lab5-logs/run-2\\model\\assets\n"
     ]
    },
    {
     "name": "stdout",
     "output_type": "stream",
     "text": [
      "704/704 [==============================] - 131s 185ms/step - loss: 0.8834 - categorical_accuracy: 0.7014 - val_loss: 0.7020 - val_categorical_accuracy: 0.7636\n",
      "Epoch 32/50\n",
      "704/704 [==============================] - 119s 169ms/step - loss: 0.8715 - categorical_accuracy: 0.7053 - val_loss: 0.7294 - val_categorical_accuracy: 0.7538\n",
      "Epoch 33/50\n",
      "704/704 [==============================] - 119s 169ms/step - loss: 0.8638 - categorical_accuracy: 0.7087 - val_loss: 0.7154 - val_categorical_accuracy: 0.7576\n",
      "Epoch 34/50\n",
      "704/704 [==============================] - 120s 170ms/step - loss: 0.8589 - categorical_accuracy: 0.7132 - val_loss: 0.7201 - val_categorical_accuracy: 0.7558\n",
      "Epoch 35/50\n",
      "704/704 [==============================] - 119s 169ms/step - loss: 0.8412 - categorical_accuracy: 0.7188 - val_loss: 0.7040 - val_categorical_accuracy: 0.7602\n",
      "Epoch 36/50\n",
      "704/704 [==============================] - 119s 169ms/step - loss: 0.8341 - categorical_accuracy: 0.7190 - val_loss: 0.6842 - val_categorical_accuracy: 0.7628\n",
      "Epoch 37/50\n",
      "703/704 [============================>.] - ETA: 0s - loss: 0.8340 - categorical_accuracy: 0.7200INFO:tensorflow:Assets written to: lab5-logs/run-2\\model\\assets\n"
     ]
    },
    {
     "name": "stderr",
     "output_type": "stream",
     "text": [
      "INFO:tensorflow:Assets written to: lab5-logs/run-2\\model\\assets\n"
     ]
    },
    {
     "name": "stdout",
     "output_type": "stream",
     "text": [
      "704/704 [==============================] - 126s 179ms/step - loss: 0.8341 - categorical_accuracy: 0.7199 - val_loss: 0.6822 - val_categorical_accuracy: 0.7662\n",
      "Epoch 38/50\n",
      "703/704 [============================>.] - ETA: 0s - loss: 0.8249 - categorical_accuracy: 0.7210INFO:tensorflow:Assets written to: lab5-logs/run-2\\model\\assets\n"
     ]
    },
    {
     "name": "stderr",
     "output_type": "stream",
     "text": [
      "INFO:tensorflow:Assets written to: lab5-logs/run-2\\model\\assets\n"
     ]
    },
    {
     "name": "stdout",
     "output_type": "stream",
     "text": [
      "704/704 [==============================] - 124s 176ms/step - loss: 0.8248 - categorical_accuracy: 0.7211 - val_loss: 0.6833 - val_categorical_accuracy: 0.7686\n",
      "Epoch 39/50\n",
      "703/704 [============================>.] - ETA: 0s - loss: 0.8157 - categorical_accuracy: 0.7260INFO:tensorflow:Assets written to: lab5-logs/run-2\\model\\assets\n"
     ]
    },
    {
     "name": "stderr",
     "output_type": "stream",
     "text": [
      "INFO:tensorflow:Assets written to: lab5-logs/run-2\\model\\assets\n"
     ]
    },
    {
     "name": "stdout",
     "output_type": "stream",
     "text": [
      "704/704 [==============================] - 126s 178ms/step - loss: 0.8157 - categorical_accuracy: 0.7260 - val_loss: 0.6780 - val_categorical_accuracy: 0.7690\n",
      "Epoch 40/50\n",
      "704/704 [==============================] - 119s 169ms/step - loss: 0.8087 - categorical_accuracy: 0.7313 - val_loss: 0.7012 - val_categorical_accuracy: 0.7662\n",
      "Epoch 41/50\n",
      "703/704 [============================>.] - ETA: 0s - loss: 0.8037 - categorical_accuracy: 0.7315INFO:tensorflow:Assets written to: lab5-logs/run-2\\model\\assets\n"
     ]
    },
    {
     "name": "stderr",
     "output_type": "stream",
     "text": [
      "INFO:tensorflow:Assets written to: lab5-logs/run-2\\model\\assets\n"
     ]
    },
    {
     "name": "stdout",
     "output_type": "stream",
     "text": [
      "704/704 [==============================] - 122s 173ms/step - loss: 0.8037 - categorical_accuracy: 0.7315 - val_loss: 0.6839 - val_categorical_accuracy: 0.7702\n",
      "Epoch 42/50\n",
      "703/704 [============================>.] - ETA: 0s - loss: 0.7901 - categorical_accuracy: 0.7346INFO:tensorflow:Assets written to: lab5-logs/run-2\\model\\assets\n"
     ]
    },
    {
     "name": "stderr",
     "output_type": "stream",
     "text": [
      "INFO:tensorflow:Assets written to: lab5-logs/run-2\\model\\assets\n"
     ]
    },
    {
     "name": "stdout",
     "output_type": "stream",
     "text": [
      "704/704 [==============================] - 123s 175ms/step - loss: 0.7901 - categorical_accuracy: 0.7346 - val_loss: 0.6722 - val_categorical_accuracy: 0.7838\n",
      "Epoch 43/50\n",
      "704/704 [==============================] - 119s 169ms/step - loss: 0.7956 - categorical_accuracy: 0.7334 - val_loss: 0.6705 - val_categorical_accuracy: 0.7754\n",
      "Epoch 44/50\n",
      "704/704 [==============================] - 119s 168ms/step - loss: 0.7822 - categorical_accuracy: 0.7384 - val_loss: 0.6951 - val_categorical_accuracy: 0.7716\n",
      "Epoch 45/50\n",
      "704/704 [==============================] - 117s 166ms/step - loss: 0.7681 - categorical_accuracy: 0.7435 - val_loss: 0.6873 - val_categorical_accuracy: 0.7762\n",
      "Epoch 46/50\n",
      "704/704 [==============================] - 117s 166ms/step - loss: 0.7754 - categorical_accuracy: 0.7404 - val_loss: 0.6742 - val_categorical_accuracy: 0.7822\n",
      "Epoch 47/50\n",
      "704/704 [==============================] - 117s 166ms/step - loss: 0.7681 - categorical_accuracy: 0.7453 - val_loss: 0.6556 - val_categorical_accuracy: 0.7824\n",
      "Epoch 48/50\n",
      "704/704 [==============================] - 117s 166ms/step - loss: 0.7623 - categorical_accuracy: 0.7466 - val_loss: 0.6618 - val_categorical_accuracy: 0.7750\n",
      "Epoch 49/50\n",
      "704/704 [==============================] - 117s 166ms/step - loss: 0.7581 - categorical_accuracy: 0.7491 - val_loss: 0.6621 - val_categorical_accuracy: 0.7718\n",
      "Epoch 50/50\n",
      "703/704 [============================>.] - ETA: 0s - loss: 0.7579 - categorical_accuracy: 0.7468INFO:tensorflow:Assets written to: lab5-logs/run-2\\model\\assets\n"
     ]
    },
    {
     "name": "stderr",
     "output_type": "stream",
     "text": [
      "INFO:tensorflow:Assets written to: lab5-logs/run-2\\model\\assets\n"
     ]
    },
    {
     "name": "stdout",
     "output_type": "stream",
     "text": [
      "704/704 [==============================] - 129s 184ms/step - loss: 0.7579 - categorical_accuracy: 0.7468 - val_loss: 0.6527 - val_categorical_accuracy: 0.7866\n",
      "---runing session 3 with init HeNormal---\n",
      "Epoch 1/50\n",
      "  2/704 [..............................] - ETA: 1:56 - loss: 3.1428 - categorical_accuracy: 0.0938WARNING:tensorflow:Callbacks method `on_train_batch_end` is slow compared to the batch time (batch time: 0.0479s vs `on_train_batch_end` time: 0.1728s). Check your callbacks.\n"
     ]
    },
    {
     "name": "stderr",
     "output_type": "stream",
     "text": [
      "WARNING:tensorflow:Callbacks method `on_train_batch_end` is slow compared to the batch time (batch time: 0.0479s vs `on_train_batch_end` time: 0.1728s). Check your callbacks.\n"
     ]
    },
    {
     "name": "stdout",
     "output_type": "stream",
     "text": [
      "703/704 [============================>.] - ETA: 0s - loss: 2.0760 - categorical_accuracy: 0.2157INFO:tensorflow:Assets written to: lab5-logs/run-3\\model\\assets\n"
     ]
    },
    {
     "name": "stderr",
     "output_type": "stream",
     "text": [
      "INFO:tensorflow:Assets written to: lab5-logs/run-3\\model\\assets\n"
     ]
    },
    {
     "name": "stdout",
     "output_type": "stream",
     "text": [
      "704/704 [==============================] - 129s 183ms/step - loss: 2.0759 - categorical_accuracy: 0.2158 - val_loss: 1.6658 - val_categorical_accuracy: 0.3940\n",
      "Epoch 2/50\n",
      "703/704 [============================>.] - ETA: 0s - loss: 1.7538 - categorical_accuracy: 0.3513INFO:tensorflow:Assets written to: lab5-logs/run-3\\model\\assets\n"
     ]
    },
    {
     "name": "stderr",
     "output_type": "stream",
     "text": [
      "INFO:tensorflow:Assets written to: lab5-logs/run-3\\model\\assets\n"
     ]
    },
    {
     "name": "stdout",
     "output_type": "stream",
     "text": [
      "704/704 [==============================] - 137s 194ms/step - loss: 1.7538 - categorical_accuracy: 0.3513 - val_loss: 1.4125 - val_categorical_accuracy: 0.4740\n",
      "Epoch 3/50\n",
      "703/704 [============================>.] - ETA: 0s - loss: 1.6224 - categorical_accuracy: 0.4058INFO:tensorflow:Assets written to: lab5-logs/run-3\\model\\assets\n"
     ]
    },
    {
     "name": "stderr",
     "output_type": "stream",
     "text": [
      "INFO:tensorflow:Assets written to: lab5-logs/run-3\\model\\assets\n"
     ]
    },
    {
     "name": "stdout",
     "output_type": "stream",
     "text": [
      "704/704 [==============================] - 145s 206ms/step - loss: 1.6225 - categorical_accuracy: 0.4058 - val_loss: 1.2802 - val_categorical_accuracy: 0.5276\n",
      "Epoch 4/50\n",
      "703/704 [============================>.] - ETA: 0s - loss: 1.5087 - categorical_accuracy: 0.4546INFO:tensorflow:Assets written to: lab5-logs/run-3\\model\\assets\n"
     ]
    },
    {
     "name": "stderr",
     "output_type": "stream",
     "text": [
      "INFO:tensorflow:Assets written to: lab5-logs/run-3\\model\\assets\n"
     ]
    },
    {
     "name": "stdout",
     "output_type": "stream",
     "text": [
      "704/704 [==============================] - 52s 74ms/step - loss: 1.5089 - categorical_accuracy: 0.4545 - val_loss: 1.1489 - val_categorical_accuracy: 0.5962\n",
      "Epoch 5/50\n",
      "702/704 [============================>.] - ETA: 0s - loss: 1.4179 - categorical_accuracy: 0.4973INFO:tensorflow:Assets written to: lab5-logs/run-3\\model\\assets\n"
     ]
    },
    {
     "name": "stderr",
     "output_type": "stream",
     "text": [
      "INFO:tensorflow:Assets written to: lab5-logs/run-3\\model\\assets\n"
     ]
    },
    {
     "name": "stdout",
     "output_type": "stream",
     "text": [
      "704/704 [==============================] - 22s 32ms/step - loss: 1.4179 - categorical_accuracy: 0.4974 - val_loss: 1.0890 - val_categorical_accuracy: 0.6072\n",
      "Epoch 6/50\n",
      "704/704 [==============================] - 17s 25ms/step - loss: 1.3340 - categorical_accuracy: 0.5258 - val_loss: 1.1102 - val_categorical_accuracy: 0.6070\n",
      "Epoch 7/50\n",
      "703/704 [============================>.] - ETA: 0s - loss: 1.2848 - categorical_accuracy: 0.5477INFO:tensorflow:Assets written to: lab5-logs/run-3\\model\\assets\n"
     ]
    },
    {
     "name": "stderr",
     "output_type": "stream",
     "text": [
      "INFO:tensorflow:Assets written to: lab5-logs/run-3\\model\\assets\n"
     ]
    },
    {
     "name": "stdout",
     "output_type": "stream",
     "text": [
      "704/704 [==============================] - 25s 36ms/step - loss: 1.2847 - categorical_accuracy: 0.5478 - val_loss: 0.9955 - val_categorical_accuracy: 0.6438\n",
      "Epoch 8/50\n",
      "701/704 [============================>.] - ETA: 0s - loss: 1.2317 - categorical_accuracy: 0.5731INFO:tensorflow:Assets written to: lab5-logs/run-3\\model\\assets\n"
     ]
    },
    {
     "name": "stderr",
     "output_type": "stream",
     "text": [
      "INFO:tensorflow:Assets written to: lab5-logs/run-3\\model\\assets\n"
     ]
    },
    {
     "name": "stdout",
     "output_type": "stream",
     "text": [
      "704/704 [==============================] - 25s 35ms/step - loss: 1.2311 - categorical_accuracy: 0.5734 - val_loss: 0.9074 - val_categorical_accuracy: 0.6702\n",
      "Epoch 9/50\n",
      "703/704 [============================>.] - ETA: 0s - loss: 1.1946 - categorical_accuracy: 0.5844INFO:tensorflow:Assets written to: lab5-logs/run-3\\model\\assets\n"
     ]
    },
    {
     "name": "stderr",
     "output_type": "stream",
     "text": [
      "INFO:tensorflow:Assets written to: lab5-logs/run-3\\model\\assets\n"
     ]
    },
    {
     "name": "stdout",
     "output_type": "stream",
     "text": [
      "704/704 [==============================] - 23s 32ms/step - loss: 1.1945 - categorical_accuracy: 0.5844 - val_loss: 0.8964 - val_categorical_accuracy: 0.6862\n",
      "Epoch 10/50\n",
      "704/704 [==============================] - 10s 14ms/step - loss: 1.1503 - categorical_accuracy: 0.6025 - val_loss: 0.9028 - val_categorical_accuracy: 0.6852\n",
      "Epoch 11/50\n",
      "701/704 [============================>.] - ETA: 0s - loss: 1.1206 - categorical_accuracy: 0.6154INFO:tensorflow:Assets written to: lab5-logs/run-3\\model\\assets\n"
     ]
    },
    {
     "name": "stderr",
     "output_type": "stream",
     "text": [
      "INFO:tensorflow:Assets written to: lab5-logs/run-3\\model\\assets\n"
     ]
    },
    {
     "name": "stdout",
     "output_type": "stream",
     "text": [
      "704/704 [==============================] - 15s 22ms/step - loss: 1.1203 - categorical_accuracy: 0.6156 - val_loss: 0.8333 - val_categorical_accuracy: 0.7062\n",
      "Epoch 12/50\n",
      "702/704 [============================>.] - ETA: 0s - loss: 1.0843 - categorical_accuracy: 0.6256INFO:tensorflow:Assets written to: lab5-logs/run-3\\model\\assets\n"
     ]
    },
    {
     "name": "stderr",
     "output_type": "stream",
     "text": [
      "INFO:tensorflow:Assets written to: lab5-logs/run-3\\model\\assets\n"
     ]
    },
    {
     "name": "stdout",
     "output_type": "stream",
     "text": [
      "704/704 [==============================] - 16s 23ms/step - loss: 1.0841 - categorical_accuracy: 0.6258 - val_loss: 0.8399 - val_categorical_accuracy: 0.7078\n",
      "Epoch 13/50\n",
      "701/704 [============================>.] - ETA: 0s - loss: 1.0583 - categorical_accuracy: 0.6397INFO:tensorflow:Assets written to: lab5-logs/run-3\\model\\assets\n"
     ]
    },
    {
     "name": "stderr",
     "output_type": "stream",
     "text": [
      "INFO:tensorflow:Assets written to: lab5-logs/run-3\\model\\assets\n"
     ]
    },
    {
     "name": "stdout",
     "output_type": "stream",
     "text": [
      "704/704 [==============================] - 19s 27ms/step - loss: 1.0581 - categorical_accuracy: 0.6398 - val_loss: 0.8191 - val_categorical_accuracy: 0.7132\n",
      "Epoch 14/50\n",
      "703/704 [============================>.] - ETA: 0s - loss: 1.0214 - categorical_accuracy: 0.6540INFO:tensorflow:Assets written to: lab5-logs/run-3\\model\\assets\n"
     ]
    },
    {
     "name": "stderr",
     "output_type": "stream",
     "text": [
      "INFO:tensorflow:Assets written to: lab5-logs/run-3\\model\\assets\n"
     ]
    },
    {
     "name": "stdout",
     "output_type": "stream",
     "text": [
      "704/704 [==============================] - 12s 17ms/step - loss: 1.0214 - categorical_accuracy: 0.6540 - val_loss: 0.8422 - val_categorical_accuracy: 0.7186\n",
      "Epoch 15/50\n",
      "701/704 [============================>.] - ETA: 0s - loss: 1.0233 - categorical_accuracy: 0.6518INFO:tensorflow:Assets written to: lab5-logs/run-3\\model\\assets\n"
     ]
    },
    {
     "name": "stderr",
     "output_type": "stream",
     "text": [
      "INFO:tensorflow:Assets written to: lab5-logs/run-3\\model\\assets\n"
     ]
    },
    {
     "name": "stdout",
     "output_type": "stream",
     "text": [
      "704/704 [==============================] - 14s 21ms/step - loss: 1.0230 - categorical_accuracy: 0.6520 - val_loss: 0.7661 - val_categorical_accuracy: 0.7328\n",
      "Epoch 16/50\n",
      "704/704 [==============================] - 10s 14ms/step - loss: 0.9834 - categorical_accuracy: 0.6655 - val_loss: 0.7939 - val_categorical_accuracy: 0.7250\n",
      "Epoch 17/50\n",
      "702/704 [============================>.] - ETA: 0s - loss: 0.9698 - categorical_accuracy: 0.6702INFO:tensorflow:Assets written to: lab5-logs/run-3\\model\\assets\n"
     ]
    },
    {
     "name": "stderr",
     "output_type": "stream",
     "text": [
      "INFO:tensorflow:Assets written to: lab5-logs/run-3\\model\\assets\n"
     ]
    },
    {
     "name": "stdout",
     "output_type": "stream",
     "text": [
      "704/704 [==============================] - 17s 24ms/step - loss: 0.9699 - categorical_accuracy: 0.6703 - val_loss: 0.7828 - val_categorical_accuracy: 0.7412\n",
      "Epoch 18/50\n",
      "702/704 [============================>.] - ETA: 0s - loss: 0.9466 - categorical_accuracy: 0.6797INFO:tensorflow:Assets written to: lab5-logs/run-3\\model\\assets\n"
     ]
    },
    {
     "name": "stderr",
     "output_type": "stream",
     "text": [
      "INFO:tensorflow:Assets written to: lab5-logs/run-3\\model\\assets\n"
     ]
    },
    {
     "name": "stdout",
     "output_type": "stream",
     "text": [
      "704/704 [==============================] - 14s 20ms/step - loss: 0.9469 - categorical_accuracy: 0.6797 - val_loss: 0.7469 - val_categorical_accuracy: 0.7458\n",
      "Epoch 19/50\n",
      "704/704 [==============================] - ETA: 0s - loss: 0.9337 - categorical_accuracy: 0.6831INFO:tensorflow:Assets written to: lab5-logs/run-3\\model\\assets\n"
     ]
    },
    {
     "name": "stderr",
     "output_type": "stream",
     "text": [
      "INFO:tensorflow:Assets written to: lab5-logs/run-3\\model\\assets\n"
     ]
    },
    {
     "name": "stdout",
     "output_type": "stream",
     "text": [
      "704/704 [==============================] - 13s 18ms/step - loss: 0.9337 - categorical_accuracy: 0.6831 - val_loss: 0.7474 - val_categorical_accuracy: 0.7554\n",
      "Epoch 20/50\n",
      "704/704 [==============================] - 9s 13ms/step - loss: 0.9182 - categorical_accuracy: 0.6908 - val_loss: 0.7160 - val_categorical_accuracy: 0.7542\n",
      "Epoch 21/50\n",
      "704/704 [==============================] - 9s 13ms/step - loss: 0.9078 - categorical_accuracy: 0.6970 - val_loss: 0.7469 - val_categorical_accuracy: 0.7504\n",
      "Epoch 22/50\n",
      "704/704 [==============================] - 9s 13ms/step - loss: 0.8996 - categorical_accuracy: 0.6995 - val_loss: 0.7467 - val_categorical_accuracy: 0.7490\n",
      "Epoch 23/50\n",
      "704/704 [==============================] - 9s 13ms/step - loss: 0.8803 - categorical_accuracy: 0.7034 - val_loss: 0.7363 - val_categorical_accuracy: 0.7522\n",
      "Epoch 24/50\n",
      "701/704 [============================>.] - ETA: 0s - loss: 0.8576 - categorical_accuracy: 0.7116INFO:tensorflow:Assets written to: lab5-logs/run-3\\model\\assets\n"
     ]
    },
    {
     "name": "stderr",
     "output_type": "stream",
     "text": [
      "INFO:tensorflow:Assets written to: lab5-logs/run-3\\model\\assets\n"
     ]
    },
    {
     "name": "stdout",
     "output_type": "stream",
     "text": [
      "704/704 [==============================] - 18s 26ms/step - loss: 0.8576 - categorical_accuracy: 0.7115 - val_loss: 0.6765 - val_categorical_accuracy: 0.7686\n",
      "Epoch 25/50\n",
      "704/704 [==============================] - 9s 13ms/step - loss: 0.8583 - categorical_accuracy: 0.7118 - val_loss: 0.7114 - val_categorical_accuracy: 0.7580\n",
      "Epoch 26/50\n",
      "704/704 [==============================] - 9s 13ms/step - loss: 0.8481 - categorical_accuracy: 0.7179 - val_loss: 0.6986 - val_categorical_accuracy: 0.7652\n",
      "Epoch 27/50\n",
      "700/704 [============================>.] - ETA: 0s - loss: 0.8340 - categorical_accuracy: 0.7201INFO:tensorflow:Assets written to: lab5-logs/run-3\\model\\assets\n"
     ]
    },
    {
     "name": "stderr",
     "output_type": "stream",
     "text": [
      "INFO:tensorflow:Assets written to: lab5-logs/run-3\\model\\assets\n"
     ]
    },
    {
     "name": "stdout",
     "output_type": "stream",
     "text": [
      "704/704 [==============================] - 16s 23ms/step - loss: 0.8339 - categorical_accuracy: 0.7202 - val_loss: 0.6806 - val_categorical_accuracy: 0.7750\n",
      "Epoch 28/50\n",
      "704/704 [==============================] - 9s 13ms/step - loss: 0.8282 - categorical_accuracy: 0.7247 - val_loss: 0.6758 - val_categorical_accuracy: 0.7692\n",
      "Epoch 29/50\n",
      "704/704 [==============================] - 9s 13ms/step - loss: 0.8287 - categorical_accuracy: 0.7236 - val_loss: 0.7075 - val_categorical_accuracy: 0.7668\n",
      "Epoch 30/50\n",
      "700/704 [============================>.] - ETA: 0s - loss: 0.8024 - categorical_accuracy: 0.7328INFO:tensorflow:Assets written to: lab5-logs/run-3\\model\\assets\n"
     ]
    },
    {
     "name": "stderr",
     "output_type": "stream",
     "text": [
      "INFO:tensorflow:Assets written to: lab5-logs/run-3\\model\\assets\n"
     ]
    },
    {
     "name": "stdout",
     "output_type": "stream",
     "text": [
      "704/704 [==============================] - 12s 17ms/step - loss: 0.8029 - categorical_accuracy: 0.7327 - val_loss: 0.6612 - val_categorical_accuracy: 0.7802\n",
      "Epoch 31/50\n",
      "704/704 [==============================] - 10s 13ms/step - loss: 0.7909 - categorical_accuracy: 0.7371 - val_loss: 0.6646 - val_categorical_accuracy: 0.7756\n",
      "Epoch 32/50\n",
      "703/704 [============================>.] - ETA: 0s - loss: 0.7958 - categorical_accuracy: 0.7373INFO:tensorflow:Assets written to: lab5-logs/run-3\\model\\assets\n"
     ]
    },
    {
     "name": "stderr",
     "output_type": "stream",
     "text": [
      "INFO:tensorflow:Assets written to: lab5-logs/run-3\\model\\assets\n"
     ]
    },
    {
     "name": "stdout",
     "output_type": "stream",
     "text": [
      "704/704 [==============================] - 22s 31ms/step - loss: 0.7958 - categorical_accuracy: 0.7373 - val_loss: 0.6473 - val_categorical_accuracy: 0.7826\n",
      "Epoch 33/50\n",
      "704/704 [==============================] - 9s 13ms/step - loss: 0.7805 - categorical_accuracy: 0.7382 - val_loss: 0.6556 - val_categorical_accuracy: 0.7820\n",
      "Epoch 34/50\n",
      "704/704 [==============================] - 10s 15ms/step - loss: 0.7712 - categorical_accuracy: 0.7440 - val_loss: 0.6942 - val_categorical_accuracy: 0.7806\n",
      "Epoch 35/50\n",
      "704/704 [==============================] - 9s 13ms/step - loss: 0.7778 - categorical_accuracy: 0.7408 - val_loss: 0.6900 - val_categorical_accuracy: 0.7744\n",
      "Epoch 36/50\n",
      "704/704 [==============================] - 9s 13ms/step - loss: 0.7628 - categorical_accuracy: 0.7480 - val_loss: 0.6948 - val_categorical_accuracy: 0.7738\n",
      "Epoch 37/50\n",
      "703/704 [============================>.] - ETA: 0s - loss: 0.7471 - categorical_accuracy: 0.7535INFO:tensorflow:Assets written to: lab5-logs/run-3\\model\\assets\n"
     ]
    },
    {
     "name": "stderr",
     "output_type": "stream",
     "text": [
      "INFO:tensorflow:Assets written to: lab5-logs/run-3\\model\\assets\n"
     ]
    },
    {
     "name": "stdout",
     "output_type": "stream",
     "text": [
      "704/704 [==============================] - 17s 24ms/step - loss: 0.7471 - categorical_accuracy: 0.7535 - val_loss: 0.6633 - val_categorical_accuracy: 0.7846\n",
      "Epoch 38/50\n",
      "704/704 [==============================] - 9s 13ms/step - loss: 0.7434 - categorical_accuracy: 0.7541 - val_loss: 0.6638 - val_categorical_accuracy: 0.7820\n",
      "Epoch 39/50\n",
      "704/704 [==============================] - 9s 13ms/step - loss: 0.7417 - categorical_accuracy: 0.7547 - val_loss: 0.6854 - val_categorical_accuracy: 0.7796\n",
      "Epoch 40/50\n",
      "701/704 [============================>.] - ETA: 0s - loss: 0.7387 - categorical_accuracy: 0.7558INFO:tensorflow:Assets written to: lab5-logs/run-3\\model\\assets\n"
     ]
    },
    {
     "name": "stderr",
     "output_type": "stream",
     "text": [
      "INFO:tensorflow:Assets written to: lab5-logs/run-3\\model\\assets\n"
     ]
    },
    {
     "name": "stdout",
     "output_type": "stream",
     "text": [
      "704/704 [==============================] - 20s 28ms/step - loss: 0.7386 - categorical_accuracy: 0.7557 - val_loss: 0.6683 - val_categorical_accuracy: 0.7874\n",
      "Epoch 41/50\n",
      "702/704 [============================>.] - ETA: 0s - loss: 0.7410 - categorical_accuracy: 0.7557INFO:tensorflow:Assets written to: lab5-logs/run-3\\model\\assets\n"
     ]
    },
    {
     "name": "stderr",
     "output_type": "stream",
     "text": [
      "INFO:tensorflow:Assets written to: lab5-logs/run-3\\model\\assets\n"
     ]
    },
    {
     "name": "stdout",
     "output_type": "stream",
     "text": [
      "704/704 [==============================] - 18s 26ms/step - loss: 0.7415 - categorical_accuracy: 0.7556 - val_loss: 0.6672 - val_categorical_accuracy: 0.7902\n",
      "Epoch 42/50\n",
      "704/704 [==============================] - 9s 13ms/step - loss: 0.7215 - categorical_accuracy: 0.7606 - val_loss: 0.6831 - val_categorical_accuracy: 0.7872\n",
      "Epoch 43/50\n",
      "700/704 [============================>.] - ETA: 0s - loss: 0.7166 - categorical_accuracy: 0.7626INFO:tensorflow:Assets written to: lab5-logs/run-3\\model\\assets\n"
     ]
    },
    {
     "name": "stderr",
     "output_type": "stream",
     "text": [
      "INFO:tensorflow:Assets written to: lab5-logs/run-3\\model\\assets\n"
     ]
    },
    {
     "name": "stdout",
     "output_type": "stream",
     "text": [
      "704/704 [==============================] - 16s 23ms/step - loss: 0.7164 - categorical_accuracy: 0.7626 - val_loss: 0.6476 - val_categorical_accuracy: 0.7992\n",
      "Epoch 44/50\n",
      "704/704 [==============================] - 9s 13ms/step - loss: 0.7070 - categorical_accuracy: 0.7667 - val_loss: 0.7185 - val_categorical_accuracy: 0.7700\n",
      "Epoch 45/50\n",
      "704/704 [==============================] - 9s 13ms/step - loss: 0.7019 - categorical_accuracy: 0.7687 - val_loss: 0.7157 - val_categorical_accuracy: 0.7764\n",
      "Epoch 46/50\n",
      "704/704 [==============================] - 9s 13ms/step - loss: 0.7043 - categorical_accuracy: 0.7661 - val_loss: 0.6548 - val_categorical_accuracy: 0.7934\n",
      "Epoch 47/50\n",
      "704/704 [==============================] - 9s 13ms/step - loss: 0.6969 - categorical_accuracy: 0.7711 - val_loss: 0.6336 - val_categorical_accuracy: 0.7954\n",
      "Epoch 48/50\n",
      "704/704 [==============================] - 9s 13ms/step - loss: 0.6906 - categorical_accuracy: 0.7722 - val_loss: 0.7262 - val_categorical_accuracy: 0.7734\n",
      "Epoch 49/50\n",
      "699/704 [============================>.] - ETA: 0s - loss: 0.6854 - categorical_accuracy: 0.7750INFO:tensorflow:Assets written to: lab5-logs/run-3\\model\\assets\n"
     ]
    },
    {
     "name": "stderr",
     "output_type": "stream",
     "text": [
      "INFO:tensorflow:Assets written to: lab5-logs/run-3\\model\\assets\n"
     ]
    },
    {
     "name": "stdout",
     "output_type": "stream",
     "text": [
      "704/704 [==============================] - 13s 19ms/step - loss: 0.6849 - categorical_accuracy: 0.7752 - val_loss: 0.6591 - val_categorical_accuracy: 0.8002\n",
      "Epoch 50/50\n",
      "704/704 [==============================] - 9s 13ms/step - loss: 0.6864 - categorical_accuracy: 0.7770 - val_loss: 0.6898 - val_categorical_accuracy: 0.7834\n"
     ]
    }
   ],
   "source": [
    "session_num = 1\n",
    "model_dir = 'lab5-logs/models/'\n",
    "weights_initializers_list = [initializers.RandomNormal(), initializers.GlorotNormal(), initializers.HeNormal()]\n",
    "for init in weights_initializers_list:\n",
    "    print('---runing session %d with init %s---' % (session_num, init.__class__.__name__))\n",
    "    run_name = 'run-%d' % session_num\n",
    "    bulid_and_train_model(run_name, init)\n",
    "    session_num += 1\n"
   ]
  },
  {
   "cell_type": "code",
   "execution_count": null,
   "metadata": {},
   "outputs": [],
   "source": []
  }
 ],
 "metadata": {
  "kernelspec": {
   "display_name": "tf2",
   "language": "python",
   "name": "python3"
  },
  "language_info": {
   "codemirror_mode": {
    "name": "ipython",
    "version": 3
   },
   "file_extension": ".py",
   "mimetype": "text/x-python",
   "name": "python",
   "nbconvert_exporter": "python",
   "pygments_lexer": "ipython3",
   "version": "3.7.16"
  }
 },
 "nbformat": 4,
 "nbformat_minor": 2
}
